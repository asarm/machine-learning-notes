{
 "cells": [
  {
   "cell_type": "markdown",
   "metadata": {},
   "source": [
    "## Gözlemlerin birbirine olan benzerlikleri üzerinden tahmin yapılır"
   ]
  },
  {
   "cell_type": "code",
   "execution_count": null,
   "metadata": {},
   "outputs": [],
   "source": []
  },
  {
   "cell_type": "code",
   "execution_count": null,
   "metadata": {},
   "outputs": [],
   "source": []
  },
  {
   "cell_type": "markdown",
   "metadata": {},
   "source": [
    "### Sınıflandırma ve regresyon problemleri için kullanılabilir"
   ]
  },
  {
   "cell_type": "markdown",
   "metadata": {},
   "source": [
    "### Büyük veri setlerinde performansı iyi olmayabilir"
   ]
  },
  {
   "cell_type": "code",
   "execution_count": 1,
   "metadata": {},
   "outputs": [],
   "source": [
    "import numpy as np\n",
    "import pandas as pd\n",
    "from sklearn.model_selection import train_test_split, GridSearchCV\n",
    "from sklearn.metrics import mean_squared_error,r2_score\n",
    "import matplotlib.pyplot as plt\n",
    "from sklearn.preprocessing import scale\n",
    "from sklearn.preprocessing import StandardScaler\n",
    "from sklearn.neighbors import KNeighborsRegressor\n",
    "from sklearn import neighbors\n",
    "from sklearn.tree import DecisionTreeRegressor"
   ]
  },
  {
   "cell_type": "code",
   "execution_count": 4,
   "metadata": {},
   "outputs": [],
   "source": [
    "from warnings import filterwarnings\n",
    "filterwarnings(\"ignore\")"
   ]
  },
  {
   "cell_type": "markdown",
   "metadata": {},
   "source": [
    "# KNN"
   ]
  },
  {
   "cell_type": "code",
   "execution_count": 2,
   "metadata": {},
   "outputs": [
    {
     "data": {
      "text/html": [
       "<div>\n",
       "<style scoped>\n",
       "    .dataframe tbody tr th:only-of-type {\n",
       "        vertical-align: middle;\n",
       "    }\n",
       "\n",
       "    .dataframe tbody tr th {\n",
       "        vertical-align: top;\n",
       "    }\n",
       "\n",
       "    .dataframe thead th {\n",
       "        text-align: right;\n",
       "    }\n",
       "</style>\n",
       "<table border=\"1\" class=\"dataframe\">\n",
       "  <thead>\n",
       "    <tr style=\"text-align: right;\">\n",
       "      <th></th>\n",
       "      <th>AtBat</th>\n",
       "      <th>Hits</th>\n",
       "      <th>HmRun</th>\n",
       "      <th>Runs</th>\n",
       "      <th>RBI</th>\n",
       "      <th>Walks</th>\n",
       "      <th>Years</th>\n",
       "      <th>CAtBat</th>\n",
       "      <th>CHits</th>\n",
       "      <th>CHmRun</th>\n",
       "      <th>CRuns</th>\n",
       "      <th>CRBI</th>\n",
       "      <th>CWalks</th>\n",
       "      <th>PutOuts</th>\n",
       "      <th>Assists</th>\n",
       "      <th>Errors</th>\n",
       "      <th>League_N</th>\n",
       "      <th>Division_W</th>\n",
       "      <th>NewLeague_N</th>\n",
       "    </tr>\n",
       "  </thead>\n",
       "  <tbody>\n",
       "    <tr>\n",
       "      <td>1</td>\n",
       "      <td>315.0</td>\n",
       "      <td>81.0</td>\n",
       "      <td>7.0</td>\n",
       "      <td>24.0</td>\n",
       "      <td>38.0</td>\n",
       "      <td>39.0</td>\n",
       "      <td>14.0</td>\n",
       "      <td>3449.0</td>\n",
       "      <td>835.0</td>\n",
       "      <td>69.0</td>\n",
       "      <td>321.0</td>\n",
       "      <td>414.0</td>\n",
       "      <td>375.0</td>\n",
       "      <td>632.0</td>\n",
       "      <td>43.0</td>\n",
       "      <td>10.0</td>\n",
       "      <td>1</td>\n",
       "      <td>1</td>\n",
       "      <td>1</td>\n",
       "    </tr>\n",
       "    <tr>\n",
       "      <td>2</td>\n",
       "      <td>479.0</td>\n",
       "      <td>130.0</td>\n",
       "      <td>18.0</td>\n",
       "      <td>66.0</td>\n",
       "      <td>72.0</td>\n",
       "      <td>76.0</td>\n",
       "      <td>3.0</td>\n",
       "      <td>1624.0</td>\n",
       "      <td>457.0</td>\n",
       "      <td>63.0</td>\n",
       "      <td>224.0</td>\n",
       "      <td>266.0</td>\n",
       "      <td>263.0</td>\n",
       "      <td>880.0</td>\n",
       "      <td>82.0</td>\n",
       "      <td>14.0</td>\n",
       "      <td>0</td>\n",
       "      <td>1</td>\n",
       "      <td>0</td>\n",
       "    </tr>\n",
       "    <tr>\n",
       "      <td>3</td>\n",
       "      <td>496.0</td>\n",
       "      <td>141.0</td>\n",
       "      <td>20.0</td>\n",
       "      <td>65.0</td>\n",
       "      <td>78.0</td>\n",
       "      <td>37.0</td>\n",
       "      <td>11.0</td>\n",
       "      <td>5628.0</td>\n",
       "      <td>1575.0</td>\n",
       "      <td>225.0</td>\n",
       "      <td>828.0</td>\n",
       "      <td>838.0</td>\n",
       "      <td>354.0</td>\n",
       "      <td>200.0</td>\n",
       "      <td>11.0</td>\n",
       "      <td>3.0</td>\n",
       "      <td>1</td>\n",
       "      <td>0</td>\n",
       "      <td>1</td>\n",
       "    </tr>\n",
       "    <tr>\n",
       "      <td>4</td>\n",
       "      <td>321.0</td>\n",
       "      <td>87.0</td>\n",
       "      <td>10.0</td>\n",
       "      <td>39.0</td>\n",
       "      <td>42.0</td>\n",
       "      <td>30.0</td>\n",
       "      <td>2.0</td>\n",
       "      <td>396.0</td>\n",
       "      <td>101.0</td>\n",
       "      <td>12.0</td>\n",
       "      <td>48.0</td>\n",
       "      <td>46.0</td>\n",
       "      <td>33.0</td>\n",
       "      <td>805.0</td>\n",
       "      <td>40.0</td>\n",
       "      <td>4.0</td>\n",
       "      <td>1</td>\n",
       "      <td>0</td>\n",
       "      <td>1</td>\n",
       "    </tr>\n",
       "    <tr>\n",
       "      <td>5</td>\n",
       "      <td>594.0</td>\n",
       "      <td>169.0</td>\n",
       "      <td>4.0</td>\n",
       "      <td>74.0</td>\n",
       "      <td>51.0</td>\n",
       "      <td>35.0</td>\n",
       "      <td>11.0</td>\n",
       "      <td>4408.0</td>\n",
       "      <td>1133.0</td>\n",
       "      <td>19.0</td>\n",
       "      <td>501.0</td>\n",
       "      <td>336.0</td>\n",
       "      <td>194.0</td>\n",
       "      <td>282.0</td>\n",
       "      <td>421.0</td>\n",
       "      <td>25.0</td>\n",
       "      <td>0</td>\n",
       "      <td>1</td>\n",
       "      <td>0</td>\n",
       "    </tr>\n",
       "    <tr>\n",
       "      <td>...</td>\n",
       "      <td>...</td>\n",
       "      <td>...</td>\n",
       "      <td>...</td>\n",
       "      <td>...</td>\n",
       "      <td>...</td>\n",
       "      <td>...</td>\n",
       "      <td>...</td>\n",
       "      <td>...</td>\n",
       "      <td>...</td>\n",
       "      <td>...</td>\n",
       "      <td>...</td>\n",
       "      <td>...</td>\n",
       "      <td>...</td>\n",
       "      <td>...</td>\n",
       "      <td>...</td>\n",
       "      <td>...</td>\n",
       "      <td>...</td>\n",
       "      <td>...</td>\n",
       "      <td>...</td>\n",
       "    </tr>\n",
       "    <tr>\n",
       "      <td>317</td>\n",
       "      <td>497.0</td>\n",
       "      <td>127.0</td>\n",
       "      <td>7.0</td>\n",
       "      <td>65.0</td>\n",
       "      <td>48.0</td>\n",
       "      <td>37.0</td>\n",
       "      <td>5.0</td>\n",
       "      <td>2703.0</td>\n",
       "      <td>806.0</td>\n",
       "      <td>32.0</td>\n",
       "      <td>379.0</td>\n",
       "      <td>311.0</td>\n",
       "      <td>138.0</td>\n",
       "      <td>325.0</td>\n",
       "      <td>9.0</td>\n",
       "      <td>3.0</td>\n",
       "      <td>1</td>\n",
       "      <td>0</td>\n",
       "      <td>1</td>\n",
       "    </tr>\n",
       "    <tr>\n",
       "      <td>318</td>\n",
       "      <td>492.0</td>\n",
       "      <td>136.0</td>\n",
       "      <td>5.0</td>\n",
       "      <td>76.0</td>\n",
       "      <td>50.0</td>\n",
       "      <td>94.0</td>\n",
       "      <td>12.0</td>\n",
       "      <td>5511.0</td>\n",
       "      <td>1511.0</td>\n",
       "      <td>39.0</td>\n",
       "      <td>897.0</td>\n",
       "      <td>451.0</td>\n",
       "      <td>875.0</td>\n",
       "      <td>313.0</td>\n",
       "      <td>381.0</td>\n",
       "      <td>20.0</td>\n",
       "      <td>0</td>\n",
       "      <td>0</td>\n",
       "      <td>0</td>\n",
       "    </tr>\n",
       "    <tr>\n",
       "      <td>319</td>\n",
       "      <td>475.0</td>\n",
       "      <td>126.0</td>\n",
       "      <td>3.0</td>\n",
       "      <td>61.0</td>\n",
       "      <td>43.0</td>\n",
       "      <td>52.0</td>\n",
       "      <td>6.0</td>\n",
       "      <td>1700.0</td>\n",
       "      <td>433.0</td>\n",
       "      <td>7.0</td>\n",
       "      <td>217.0</td>\n",
       "      <td>93.0</td>\n",
       "      <td>146.0</td>\n",
       "      <td>37.0</td>\n",
       "      <td>113.0</td>\n",
       "      <td>7.0</td>\n",
       "      <td>0</td>\n",
       "      <td>1</td>\n",
       "      <td>0</td>\n",
       "    </tr>\n",
       "    <tr>\n",
       "      <td>320</td>\n",
       "      <td>573.0</td>\n",
       "      <td>144.0</td>\n",
       "      <td>9.0</td>\n",
       "      <td>85.0</td>\n",
       "      <td>60.0</td>\n",
       "      <td>78.0</td>\n",
       "      <td>8.0</td>\n",
       "      <td>3198.0</td>\n",
       "      <td>857.0</td>\n",
       "      <td>97.0</td>\n",
       "      <td>470.0</td>\n",
       "      <td>420.0</td>\n",
       "      <td>332.0</td>\n",
       "      <td>1314.0</td>\n",
       "      <td>131.0</td>\n",
       "      <td>12.0</td>\n",
       "      <td>0</td>\n",
       "      <td>0</td>\n",
       "      <td>0</td>\n",
       "    </tr>\n",
       "    <tr>\n",
       "      <td>321</td>\n",
       "      <td>631.0</td>\n",
       "      <td>170.0</td>\n",
       "      <td>9.0</td>\n",
       "      <td>77.0</td>\n",
       "      <td>44.0</td>\n",
       "      <td>31.0</td>\n",
       "      <td>11.0</td>\n",
       "      <td>4908.0</td>\n",
       "      <td>1457.0</td>\n",
       "      <td>30.0</td>\n",
       "      <td>775.0</td>\n",
       "      <td>357.0</td>\n",
       "      <td>249.0</td>\n",
       "      <td>408.0</td>\n",
       "      <td>4.0</td>\n",
       "      <td>3.0</td>\n",
       "      <td>0</td>\n",
       "      <td>1</td>\n",
       "      <td>0</td>\n",
       "    </tr>\n",
       "  </tbody>\n",
       "</table>\n",
       "<p>263 rows × 19 columns</p>\n",
       "</div>"
      ],
      "text/plain": [
       "     AtBat   Hits  HmRun  Runs   RBI  Walks  Years  CAtBat   CHits  CHmRun  \\\n",
       "1    315.0   81.0    7.0  24.0  38.0   39.0   14.0  3449.0   835.0    69.0   \n",
       "2    479.0  130.0   18.0  66.0  72.0   76.0    3.0  1624.0   457.0    63.0   \n",
       "3    496.0  141.0   20.0  65.0  78.0   37.0   11.0  5628.0  1575.0   225.0   \n",
       "4    321.0   87.0   10.0  39.0  42.0   30.0    2.0   396.0   101.0    12.0   \n",
       "5    594.0  169.0    4.0  74.0  51.0   35.0   11.0  4408.0  1133.0    19.0   \n",
       "..     ...    ...    ...   ...   ...    ...    ...     ...     ...     ...   \n",
       "317  497.0  127.0    7.0  65.0  48.0   37.0    5.0  2703.0   806.0    32.0   \n",
       "318  492.0  136.0    5.0  76.0  50.0   94.0   12.0  5511.0  1511.0    39.0   \n",
       "319  475.0  126.0    3.0  61.0  43.0   52.0    6.0  1700.0   433.0     7.0   \n",
       "320  573.0  144.0    9.0  85.0  60.0   78.0    8.0  3198.0   857.0    97.0   \n",
       "321  631.0  170.0    9.0  77.0  44.0   31.0   11.0  4908.0  1457.0    30.0   \n",
       "\n",
       "     CRuns   CRBI  CWalks  PutOuts  Assists  Errors  League_N  Division_W  \\\n",
       "1    321.0  414.0   375.0    632.0     43.0    10.0         1           1   \n",
       "2    224.0  266.0   263.0    880.0     82.0    14.0         0           1   \n",
       "3    828.0  838.0   354.0    200.0     11.0     3.0         1           0   \n",
       "4     48.0   46.0    33.0    805.0     40.0     4.0         1           0   \n",
       "5    501.0  336.0   194.0    282.0    421.0    25.0         0           1   \n",
       "..     ...    ...     ...      ...      ...     ...       ...         ...   \n",
       "317  379.0  311.0   138.0    325.0      9.0     3.0         1           0   \n",
       "318  897.0  451.0   875.0    313.0    381.0    20.0         0           0   \n",
       "319  217.0   93.0   146.0     37.0    113.0     7.0         0           1   \n",
       "320  470.0  420.0   332.0   1314.0    131.0    12.0         0           0   \n",
       "321  775.0  357.0   249.0    408.0      4.0     3.0         0           1   \n",
       "\n",
       "     NewLeague_N  \n",
       "1              1  \n",
       "2              0  \n",
       "3              1  \n",
       "4              1  \n",
       "5              0  \n",
       "..           ...  \n",
       "317            1  \n",
       "318            0  \n",
       "319            0  \n",
       "320            0  \n",
       "321            0  \n",
       "\n",
       "[263 rows x 19 columns]"
      ]
     },
     "execution_count": 2,
     "metadata": {},
     "output_type": "execute_result"
    }
   ],
   "source": [
    "df = pd.read_csv(\"Hitters.csv\")\n",
    "df = df.dropna()\n",
    "dms = pd.get_dummies(df[[\"League\",\"Division\",\"NewLeague\"]])\n",
    "y = df[\"Salary\"]\n",
    "X_ = df.drop([\"Salary\",\"League\",\"Division\",\"NewLeague\"],axis=1).astype(\"float64\")\n",
    "X = pd.concat([X_,dms[[\"League_N\",\"Division_W\",\"NewLeague_N\"]]],axis = 1)\n",
    "X_train,X_test,y_train,y_test = train_test_split(X,y,test_size = 0.25,random_state=42)\n",
    "X"
   ]
  },
  {
   "cell_type": "markdown",
   "metadata": {},
   "source": [
    "### Model"
   ]
  },
  {
   "cell_type": "code",
   "execution_count": 61,
   "metadata": {},
   "outputs": [],
   "source": [
    "knn_model = KNeighborsRegressor().fit(X_train,y_train)"
   ]
  },
  {
   "cell_type": "code",
   "execution_count": 62,
   "metadata": {},
   "outputs": [
    {
     "data": {
      "text/plain": [
       "KNeighborsRegressor(algorithm='auto', leaf_size=30, metric='minkowski',\n",
       "                    metric_params=None, n_jobs=None, n_neighbors=5, p=2,\n",
       "                    weights='uniform')"
      ]
     },
     "execution_count": 62,
     "metadata": {},
     "output_type": "execute_result"
    }
   ],
   "source": [
    "knn_model"
   ]
  },
  {
   "cell_type": "code",
   "execution_count": 15,
   "metadata": {},
   "outputs": [
    {
     "data": {
      "text/plain": [
       "5"
      ]
     },
     "execution_count": 15,
     "metadata": {},
     "output_type": "execute_result"
    }
   ],
   "source": [
    "knn_model.n_neighbors"
   ]
  },
  {
   "cell_type": "code",
   "execution_count": 16,
   "metadata": {
    "collapsed": true,
    "jupyter": {
     "outputs_hidden": true
    }
   },
   "outputs": [
    {
     "data": {
      "text/plain": [
       "['__abstractmethods__',\n",
       " '__class__',\n",
       " '__delattr__',\n",
       " '__dict__',\n",
       " '__dir__',\n",
       " '__doc__',\n",
       " '__eq__',\n",
       " '__format__',\n",
       " '__ge__',\n",
       " '__getattribute__',\n",
       " '__getstate__',\n",
       " '__gt__',\n",
       " '__hash__',\n",
       " '__init__',\n",
       " '__init_subclass__',\n",
       " '__le__',\n",
       " '__lt__',\n",
       " '__module__',\n",
       " '__ne__',\n",
       " '__new__',\n",
       " '__reduce__',\n",
       " '__reduce_ex__',\n",
       " '__repr__',\n",
       " '__setattr__',\n",
       " '__setstate__',\n",
       " '__sizeof__',\n",
       " '__str__',\n",
       " '__subclasshook__',\n",
       " '__weakref__',\n",
       " '_abc_impl',\n",
       " '_check_algorithm_metric',\n",
       " '_estimator_type',\n",
       " '_fit',\n",
       " '_fit_X',\n",
       " '_fit_method',\n",
       " '_get_param_names',\n",
       " '_get_tags',\n",
       " '_kneighbors_reduce_func',\n",
       " '_more_tags',\n",
       " '_pairwise',\n",
       " '_tree',\n",
       " '_y',\n",
       " 'algorithm',\n",
       " 'effective_metric_',\n",
       " 'effective_metric_params_',\n",
       " 'fit',\n",
       " 'get_params',\n",
       " 'kneighbors',\n",
       " 'kneighbors_graph',\n",
       " 'leaf_size',\n",
       " 'metric',\n",
       " 'metric_params',\n",
       " 'n_jobs',\n",
       " 'n_neighbors',\n",
       " 'p',\n",
       " 'predict',\n",
       " 'radius',\n",
       " 'score',\n",
       " 'set_params',\n",
       " 'weights']"
      ]
     },
     "execution_count": 16,
     "metadata": {},
     "output_type": "execute_result"
    }
   ],
   "source": [
    "dir(knn_model)"
   ]
  },
  {
   "cell_type": "code",
   "execution_count": 17,
   "metadata": {},
   "outputs": [
    {
     "data": {
      "text/plain": [
       "array([ 510.3334,  808.3334,  772.5   ,  125.5   , 1005.    ])"
      ]
     },
     "execution_count": 17,
     "metadata": {},
     "output_type": "execute_result"
    }
   ],
   "source": [
    "knn_model.predict(X_test)[:5]"
   ]
  },
  {
   "cell_type": "code",
   "execution_count": 40,
   "metadata": {
    "collapsed": true,
    "jupyter": {
     "outputs_hidden": true
    }
   },
   "outputs": [
    {
     "data": {
      "text/plain": [
       "array([ 510.3334,  808.3334,  772.5   ,  125.5   , 1005.    ,  325.5   ,\n",
       "        216.5   ,  101.5   ,  982.    ,  886.6666,  590.    ,  901.6666,\n",
       "        831.6666,  157.5   ,  393.    , 1005.    ,  735.5   ,   97.    ,\n",
       "        884.4   ,  302.    ,  450.    ,  817.6666,  832.6666,  392.3334,\n",
       "        528.    ,   81.6   ,  735.    ,  470.    ,  722.5   ,  101.    ,\n",
       "         90.5   ,   74.6   ,  748.3334,  217.    ,  280.5334, 1044.5   ,\n",
       "        955.    ,  232.    ,   78.6   ,  529.    ,   77.6   ,  106.5   ,\n",
       "        516.6666,  593.6666, 1005.    ,  649.1666,  715.    ,  101.5   ,\n",
       "        134.5   ,  810.    ,  743.    ,  521.3334,  664.3334,  195.    ,\n",
       "        102.4   ,  728.5   ,  488.    ,  962.5   ,  230.8334, 1040.    ,\n",
       "        885.    ,  542.    ,  720.4   ,  571.    ,  735.    ,   81.6   ])"
      ]
     },
     "execution_count": 40,
     "metadata": {},
     "output_type": "execute_result"
    }
   ],
   "source": [
    "y_predict = knn_model.predict(X_test)\n",
    "y_predict"
   ]
  },
  {
   "cell_type": "code",
   "execution_count": 19,
   "metadata": {},
   "outputs": [
    {
     "data": {
      "text/plain": [
       "426.6570764525201"
      ]
     },
     "execution_count": 19,
     "metadata": {},
     "output_type": "execute_result"
    }
   ],
   "source": [
    "np.sqrt(mean_squared_error(y_test,y_predict))"
   ]
  },
  {
   "cell_type": "markdown",
   "metadata": {},
   "source": [
    "### KNN Tuning"
   ]
  },
  {
   "cell_type": "code",
   "execution_count": 24,
   "metadata": {},
   "outputs": [
    {
     "data": {
      "text/plain": [
       "KNeighborsRegressor(algorithm='auto', leaf_size=30, metric='minkowski',\n",
       "                    metric_params=None, n_jobs=None, n_neighbors=5, p=2,\n",
       "                    weights='uniform')"
      ]
     },
     "execution_count": 24,
     "metadata": {},
     "output_type": "execute_result"
    }
   ],
   "source": [
    "knn_model"
   ]
  },
  {
   "cell_type": "code",
   "execution_count": 36,
   "metadata": {},
   "outputs": [],
   "source": [
    "#GridSearchCV\n",
    "knn_params = {\"n_neighbors\":np.arange(1,30,1)}"
   ]
  },
  {
   "cell_type": "code",
   "execution_count": 34,
   "metadata": {},
   "outputs": [],
   "source": [
    "knn_model = KNeighborsRegressor()"
   ]
  },
  {
   "cell_type": "code",
   "execution_count": 41,
   "metadata": {},
   "outputs": [
    {
     "data": {
      "text/plain": [
       "{'n_neighbors': 8}"
      ]
     },
     "execution_count": 41,
     "metadata": {},
     "output_type": "execute_result"
    }
   ],
   "source": [
    "knn_cv_model = GridSearchCV(knn_model,knn_params,cv=10).fit(X_train,y_train)\n",
    "knn_cv_model.best_params_"
   ]
  },
  {
   "cell_type": "code",
   "execution_count": 42,
   "metadata": {},
   "outputs": [],
   "source": [
    "knn_tuned = KNeighborsRegressor(n_neighbors=knn_cv_model.best_params_[\"n_neighbors\"]).fit(X_train,y_train)"
   ]
  },
  {
   "cell_type": "code",
   "execution_count": 43,
   "metadata": {},
   "outputs": [
    {
     "data": {
      "text/plain": [
       "KNeighborsRegressor(algorithm='auto', leaf_size=30, metric='minkowski',\n",
       "                    metric_params=None, n_jobs=None, n_neighbors=8, p=2,\n",
       "                    weights='uniform')"
      ]
     },
     "execution_count": 43,
     "metadata": {},
     "output_type": "execute_result"
    }
   ],
   "source": [
    "knn_tuned"
   ]
  },
  {
   "cell_type": "code",
   "execution_count": 44,
   "metadata": {
    "collapsed": true,
    "jupyter": {
     "outputs_hidden": true
    }
   },
   "outputs": [
    {
     "data": {
      "text/plain": [
       "array([ 624.583375,  812.083375,  846.25    ,  155.3125  ,  850.      ,\n",
       "        310.9375  ,  215.3125  ,  125.5625  ,  751.875   ,  981.25    ,\n",
       "        634.0625  ,  878.541625,  963.541625,  155.3125  ,  390.625   ,\n",
       "        850.      ,  765.9375  ,   93.4375  ,  894.416625,  313.75    ,\n",
       "        609.583375,  704.166625,  702.5     ,  481.145875,  469.0625  ,\n",
       "         80.375   ,  915.696375,  418.75    ,  574.6875  ,   95.      ,\n",
       "         92.1875  ,   73.8125  ,  638.333375,  229.375   ,  263.458375,\n",
       "       1204.446375,  981.25    ,  230.625   ,   75.6875  ,  633.75    ,\n",
       "         77.875   ,  115.5625  ,  660.416625,  565.729125,  861.875   ,\n",
       "        685.9375  ,  850.      ,  107.8125  ,  155.3125  ,  704.375   ,\n",
       "        706.25    ,  699.583375,  713.645875,  197.5     ,  111.5     ,\n",
       "        738.4375  ,  691.666625,  843.229125,  188.270875,  987.5     ,\n",
       "        981.25    ,  505.      ,  840.875   ,  566.875   ,  787.5     ,\n",
       "         86.625   ])"
      ]
     },
     "execution_count": 44,
     "metadata": {},
     "output_type": "execute_result"
    }
   ],
   "source": [
    "y_predict = knn_tuned.predict(X_test)\n",
    "y_predict"
   ]
  },
  {
   "cell_type": "code",
   "execution_count": 45,
   "metadata": {},
   "outputs": [
    {
     "data": {
      "text/plain": [
       "413.7094731463598"
      ]
     },
     "execution_count": 45,
     "metadata": {},
     "output_type": "execute_result"
    }
   ],
   "source": [
    "np.sqrt(mean_squared_error(y_test,y_predict))"
   ]
  },
  {
   "cell_type": "markdown",
   "metadata": {},
   "source": [
    "# Destek Vektör Regresyonu (Support Vector Reg.)"
   ]
  },
  {
   "cell_type": "markdown",
   "metadata": {},
   "source": [
    "### Aykırı gözlemler doğrunun eğimini belirlemede büyük rol oynar"
   ]
  },
  {
   "cell_type": "code",
   "execution_count": 33,
   "metadata": {},
   "outputs": [],
   "source": [
    "from sklearn.svm import SVR\n",
    "svr_model = SVR(\"linear\").fit(X_train,y_train) # linear or rbf"
   ]
  },
  {
   "cell_type": "code",
   "execution_count": 17,
   "metadata": {},
   "outputs": [
    {
     "data": {
      "text/plain": [
       "SVR(C=1.0, cache_size=200, coef0=0.0, degree=3, epsilon=0.1,\n",
       "    gamma='auto_deprecated', kernel='linear', max_iter=-1, shrinking=True,\n",
       "    tol=0.001, verbose=False)"
      ]
     },
     "execution_count": 17,
     "metadata": {},
     "output_type": "execute_result"
    }
   ],
   "source": [
    "svr_model"
   ]
  },
  {
   "cell_type": "code",
   "execution_count": 31,
   "metadata": {},
   "outputs": [],
   "source": [
    "y_predict = svr_model.predict(X_test)"
   ]
  },
  {
   "cell_type": "code",
   "execution_count": 32,
   "metadata": {},
   "outputs": [
    {
     "data": {
      "text/plain": [
       "370.04084185624924"
      ]
     },
     "execution_count": 32,
     "metadata": {},
     "output_type": "execute_result"
    }
   ],
   "source": [
    "np.sqrt(mean_squared_error(y_test,y_predict))"
   ]
  },
  {
   "cell_type": "markdown",
   "metadata": {},
   "source": [
    "## Tuning"
   ]
  },
  {
   "cell_type": "code",
   "execution_count": 51,
   "metadata": {},
   "outputs": [
    {
     "data": {
      "text/plain": [
       "{'C': array([0.1  , 0.325, 0.55 , 0.775, 1.   ])}"
      ]
     },
     "execution_count": 51,
     "metadata": {},
     "output_type": "execute_result"
    }
   ],
   "source": [
    "svr_params = {\"C\":np.linspace(0.1,1,5)}\n",
    "svr_params"
   ]
  },
  {
   "cell_type": "code",
   "execution_count": 52,
   "metadata": {},
   "outputs": [],
   "source": [
    "svr_cv_model = GridSearchCV(svr_model,svr_params,cv=3,n_jobs=-1).fit(X_train,y_train)"
   ]
  },
  {
   "cell_type": "code",
   "execution_count": 53,
   "metadata": {},
   "outputs": [
    {
     "data": {
      "text/plain": [
       "{'C': 0.325}"
      ]
     },
     "execution_count": 53,
     "metadata": {},
     "output_type": "execute_result"
    }
   ],
   "source": [
    "svr_cv_model.best_params_"
   ]
  },
  {
   "cell_type": "code",
   "execution_count": 54,
   "metadata": {},
   "outputs": [],
   "source": [
    "svr_model = SVR(\"linear\",C=0.32).fit(X_train,y_train)\n",
    "y_predict = svr_model.predict(X_test)"
   ]
  },
  {
   "cell_type": "code",
   "execution_count": 55,
   "metadata": {},
   "outputs": [
    {
     "data": {
      "text/plain": [
       "367.54375059615194"
      ]
     },
     "execution_count": 55,
     "metadata": {},
     "output_type": "execute_result"
    }
   ],
   "source": [
    "np.sqrt(mean_squared_error(y_test,y_predict))"
   ]
  },
  {
   "cell_type": "markdown",
   "metadata": {},
   "source": [
    "# Yapay Sinir Ağları"
   ]
  },
  {
   "cell_type": "markdown",
   "metadata": {},
   "source": [
    "#### Standartlaştırma"
   ]
  },
  {
   "cell_type": "code",
   "execution_count": 76,
   "metadata": {},
   "outputs": [],
   "source": [
    "from sklearn.neural_network import MLPRegressor\n",
    "scaler = StandardScaler()"
   ]
  },
  {
   "cell_type": "code",
   "execution_count": 91,
   "metadata": {},
   "outputs": [],
   "source": [
    "scaler.fit(X_train)\n",
    "X_train_scaled = scaler.transform(X_train)\n",
    "scaler.fit(X_test)\n",
    "X_test_scaled = scaler.transform(X_test)"
   ]
  },
  {
   "cell_type": "code",
   "execution_count": 92,
   "metadata": {},
   "outputs": [],
   "source": [
    "mlp_model = MLPRegressor().fit(X_train_scaled,y_train)"
   ]
  },
  {
   "cell_type": "code",
   "execution_count": 95,
   "metadata": {},
   "outputs": [
    {
     "data": {
      "text/plain": [
       "array([20.05065837, 38.29865913, 64.54434114, 13.85892581, 25.76382819])"
      ]
     },
     "execution_count": 95,
     "metadata": {},
     "output_type": "execute_result"
    }
   ],
   "source": [
    "y_p = mlp_model.predict(X_test_scaled)\n",
    "mlp_model.predict(X_test_scaled)[:5]"
   ]
  },
  {
   "cell_type": "code",
   "execution_count": 94,
   "metadata": {},
   "outputs": [
    {
     "data": {
      "text/plain": [
       "659.4903897674508"
      ]
     },
     "execution_count": 94,
     "metadata": {},
     "output_type": "execute_result"
    }
   ],
   "source": [
    "# İlkel hata\n",
    "np.sqrt(mean_squared_error(y_test,y_p))"
   ]
  },
  {
   "cell_type": "markdown",
   "metadata": {},
   "source": [
    "## Tuning"
   ]
  },
  {
   "cell_type": "code",
   "execution_count": 112,
   "metadata": {},
   "outputs": [],
   "source": [
    "mlp_params = {\"alpha\":[0.1,0.2,0.01,0.02,0.001],\n",
    "             \"hidden_layer_sizes\":[(10,20),(5,5),(100,100)]}"
   ]
  },
  {
   "cell_type": "code",
   "execution_count": 121,
   "metadata": {},
   "outputs": [
    {
     "name": "stdout",
     "output_type": "stream",
     "text": [
      "Fitting 5 folds for each of 15 candidates, totalling 75 fits\n"
     ]
    },
    {
     "name": "stderr",
     "output_type": "stream",
     "text": [
      "[Parallel(n_jobs=-1)]: Using backend LokyBackend with 8 concurrent workers.\n",
      "[Parallel(n_jobs=-1)]: Done  25 tasks      | elapsed:    1.8s\n",
      "[Parallel(n_jobs=-1)]: Done  75 out of  75 | elapsed:    5.9s finished\n"
     ]
    }
   ],
   "source": [
    "mlp_cv_model=GridSearchCV(mlp_model,mlp_params,cv=5,verbose=2,n_jobs=-1 ).fit(X_train_scaled,y_train)"
   ]
  },
  {
   "cell_type": "code",
   "execution_count": 122,
   "metadata": {},
   "outputs": [
    {
     "data": {
      "text/plain": [
       "{'alpha': 0.1, 'hidden_layer_sizes': (100, 100)}"
      ]
     },
     "execution_count": 122,
     "metadata": {},
     "output_type": "execute_result"
    }
   ],
   "source": [
    "mlp_cv_model.best_params_"
   ]
  },
  {
   "cell_type": "code",
   "execution_count": 123,
   "metadata": {},
   "outputs": [
    {
     "data": {
      "text/plain": [
       "354.0720267979837"
      ]
     },
     "execution_count": 123,
     "metadata": {},
     "output_type": "execute_result"
    }
   ],
   "source": [
    "mlp_tuned = MLPRegressor(alpha=0.01,hidden_layer_sizes = (100,100)).fit(X_train_scaled,y_train)\n",
    "y_pred = mlp_tuned.predict(X_test_scaled)\n",
    "np.sqrt(mean_squared_error(y_test,y_pred))"
   ]
  },
  {
   "cell_type": "markdown",
   "metadata": {},
   "source": [
    "# Cart (Classification and regression tree)"
   ]
  },
  {
   "cell_type": "code",
   "execution_count": 63,
   "metadata": {},
   "outputs": [
    {
     "data": {
      "text/plain": [
       "DecisionTreeRegressor(criterion='mse', max_depth=None, max_features=None,\n",
       "                      max_leaf_nodes=None, min_impurity_decrease=0.0,\n",
       "                      min_impurity_split=None, min_samples_leaf=1,\n",
       "                      min_samples_split=2, min_weight_fraction_leaf=0.0,\n",
       "                      presort=False, random_state=None, splitter='best')"
      ]
     },
     "execution_count": 63,
     "metadata": {},
     "output_type": "execute_result"
    }
   ],
   "source": [
    "cart_model = DecisionTreeRegressor().fit(X_train,y_train)\n",
    "cart_model"
   ]
  },
  {
   "cell_type": "code",
   "execution_count": 52,
   "metadata": {},
   "outputs": [
    {
     "data": {
      "text/plain": [
       "array([ 705.55937931, 1266.97166667,  705.55937931,  214.33895506,\n",
       "        705.55937931])"
      ]
     },
     "execution_count": 52,
     "metadata": {},
     "output_type": "execute_result"
    }
   ],
   "source": [
    "cart_model.predict(X_test)[:5]"
   ]
  },
  {
   "cell_type": "code",
   "execution_count": 64,
   "metadata": {},
   "outputs": [
    {
     "data": {
      "text/plain": [
       "542.5302712736195"
      ]
     },
     "execution_count": 64,
     "metadata": {},
     "output_type": "execute_result"
    }
   ],
   "source": [
    "np.sqrt(mean_squared_error(y_test,cart_model.predict(X_test)))"
   ]
  },
  {
   "cell_type": "code",
   "execution_count": 54,
   "metadata": {},
   "outputs": [],
   "source": [
    "cart_params = {\n",
    "    \"max_depth\":[2,3,4,5,10,20],\n",
    "    \"min_samples_split\":[2,5,10,20,40,100]\n",
    "}\n"
   ]
  },
  {
   "cell_type": "code",
   "execution_count": 57,
   "metadata": {},
   "outputs": [
    {
     "name": "stderr",
     "output_type": "stream",
     "text": [
      "C:\\Users\\ardaa_iyfsapc\\Anaconda3\\lib\\site-packages\\sklearn\\model_selection\\_search.py:814: DeprecationWarning: The default of the `iid` parameter will change from True to False in version 0.22 and will be removed in 0.24. This will change numeric results when test-set sizes are unequal.\n",
      "  DeprecationWarning)\n"
     ]
    }
   ],
   "source": [
    "cart_model = DecisionTreeRegressor()\n",
    "cart_cv_model = GridSearchCV(cart_model,cart_params,cv=10).fit(X_train,y_train)"
   ]
  },
  {
   "cell_type": "code",
   "execution_count": 58,
   "metadata": {},
   "outputs": [
    {
     "data": {
      "text/plain": [
       "{'max_depth': 5, 'min_samples_split': 40}"
      ]
     },
     "execution_count": 58,
     "metadata": {},
     "output_type": "execute_result"
    }
   ],
   "source": [
    "cart_cv_model.best_params_"
   ]
  },
  {
   "cell_type": "code",
   "execution_count": 61,
   "metadata": {},
   "outputs": [],
   "source": [
    "cart_tuned = DecisionTreeRegressor(max_depth=5,min_samples_split=40).fit(X_train,y_train)"
   ]
  },
  {
   "cell_type": "code",
   "execution_count": 62,
   "metadata": {},
   "outputs": [
    {
     "data": {
      "text/plain": [
       "366.2474947103212"
      ]
     },
     "execution_count": 62,
     "metadata": {},
     "output_type": "execute_result"
    }
   ],
   "source": [
    "np.sqrt(mean_squared_error(y_test,cart_tuned.predict(X_test)))"
   ]
  },
  {
   "cell_type": "markdown",
   "metadata": {},
   "source": [
    "# Random Forests"
   ]
  },
  {
   "cell_type": "code",
   "execution_count": 27,
   "metadata": {},
   "outputs": [
    {
     "name": "stderr",
     "output_type": "stream",
     "text": [
      "C:\\Users\\ardaa_iyfsapc\\Anaconda3\\lib\\site-packages\\sklearn\\ensemble\\forest.py:245: FutureWarning: The default value of n_estimators will change from 10 in version 0.20 to 100 in 0.22.\n",
      "  \"10 in version 0.20 to 100 in 0.22.\", FutureWarning)\n"
     ]
    }
   ],
   "source": [
    "from sklearn.ensemble import RandomForestRegressor\n",
    "rf_model = RandomForestRegressor(random_state=90).fit(X_train,y_train)"
   ]
  },
  {
   "cell_type": "code",
   "execution_count": 28,
   "metadata": {},
   "outputs": [
    {
     "data": {
      "text/plain": [
       "317.46768571107884"
      ]
     },
     "execution_count": 28,
     "metadata": {},
     "output_type": "execute_result"
    }
   ],
   "source": [
    "np.sqrt(mean_squared_error(y_test,rf_model.predict(X_test)))"
   ]
  },
  {
   "cell_type": "markdown",
   "metadata": {},
   "source": [
    "### Tuning"
   ]
  },
  {
   "cell_type": "code",
   "execution_count": 24,
   "metadata": {},
   "outputs": [
    {
     "ename": "SyntaxError",
     "evalue": "invalid syntax (<ipython-input-24-964a7312b5c0>, line 6)",
     "output_type": "error",
     "traceback": [
      "\u001b[1;36m  File \u001b[1;32m\"<ipython-input-24-964a7312b5c0>\"\u001b[1;36m, line \u001b[1;32m6\u001b[0m\n\u001b[1;33m    random_state = 40\u001b[0m\n\u001b[1;37m                 ^\u001b[0m\n\u001b[1;31mSyntaxError\u001b[0m\u001b[1;31m:\u001b[0m invalid syntax\n"
     ]
    }
   ],
   "source": [
    "rf_params = {\n",
    "    \"max_depth\":[2,5,10],\n",
    "    \"max_features\":[2,5,10],\n",
    "    \"n_estimators\":[200,500,1000,2000],\n",
    "    \"min_samples_split\":[2,10,100],\n",
    "}\n",
    "rf_params"
   ]
  },
  {
   "cell_type": "code",
   "execution_count": 14,
   "metadata": {},
   "outputs": [
    {
     "name": "stdout",
     "output_type": "stream",
     "text": [
      "Fitting 5 folds for each of 108 candidates, totalling 540 fits\n"
     ]
    },
    {
     "name": "stderr",
     "output_type": "stream",
     "text": [
      "[Parallel(n_jobs=-1)]: Using backend LokyBackend with 8 concurrent workers.\n",
      "[Parallel(n_jobs=-1)]: Done  25 tasks      | elapsed:   11.2s\n",
      "[Parallel(n_jobs=-1)]: Done 146 tasks      | elapsed:   33.8s\n",
      "[Parallel(n_jobs=-1)]: Done 349 tasks      | elapsed:  1.2min\n",
      "[Parallel(n_jobs=-1)]: Done 540 out of 540 | elapsed:  1.9min finished\n",
      "C:\\Users\\ardaa_iyfsapc\\Anaconda3\\lib\\site-packages\\sklearn\\model_selection\\_search.py:814: DeprecationWarning: The default of the `iid` parameter will change from True to False in version 0.22 and will be removed in 0.24. This will change numeric results when test-set sizes are unequal.\n",
      "  DeprecationWarning)\n"
     ]
    }
   ],
   "source": [
    "rf_cv_model = GridSearchCV(rf_model,rf_params,cv=5,n_jobs=-1,verbose=2).fit(X_train,y_train)"
   ]
  },
  {
   "cell_type": "code",
   "execution_count": 15,
   "metadata": {},
   "outputs": [
    {
     "data": {
      "text/plain": [
       "{'max_depth': 10,\n",
       " 'max_features': 2,\n",
       " 'min_samples_split': 2,\n",
       " 'n_estimators': 1000}"
      ]
     },
     "execution_count": 15,
     "metadata": {},
     "output_type": "execute_result"
    }
   ],
   "source": [
    "rf_cv_model.best_params_"
   ]
  },
  {
   "cell_type": "code",
   "execution_count": 29,
   "metadata": {},
   "outputs": [],
   "source": [
    "rf_tuned = RandomForestRegressor(random_state=90,max_depth=10,max_features=2,min_samples_split=2,n_estimators=1000).fit(X_train,y_train)"
   ]
  },
  {
   "cell_type": "code",
   "execution_count": 30,
   "metadata": {},
   "outputs": [
    {
     "data": {
      "text/plain": [
       "345.4518390920363"
      ]
     },
     "execution_count": 30,
     "metadata": {},
     "output_type": "execute_result"
    }
   ],
   "source": [
    "np.sqrt(mean_squared_error(y_test,rf_tuned.predict(X_test)))"
   ]
  },
  {
   "cell_type": "markdown",
   "metadata": {},
   "source": [
    "## Değişken Önem Düzeyi"
   ]
  },
  {
   "cell_type": "code",
   "execution_count": 31,
   "metadata": {},
   "outputs": [],
   "source": [
    "Importance = pd.DataFrame({\n",
    "    \"Importance\":rf_tuned.feature_importances_*100\n",
    "},\n",
    "    index=X_train.columns\n",
    ")"
   ]
  },
  {
   "cell_type": "code",
   "execution_count": 35,
   "metadata": {},
   "outputs": [
    {
     "data": {
      "text/html": [
       "<div>\n",
       "<style scoped>\n",
       "    .dataframe tbody tr th:only-of-type {\n",
       "        vertical-align: middle;\n",
       "    }\n",
       "\n",
       "    .dataframe tbody tr th {\n",
       "        vertical-align: top;\n",
       "    }\n",
       "\n",
       "    .dataframe thead th {\n",
       "        text-align: right;\n",
       "    }\n",
       "</style>\n",
       "<table border=\"1\" class=\"dataframe\">\n",
       "  <thead>\n",
       "    <tr style=\"text-align: right;\">\n",
       "      <th></th>\n",
       "      <th>Importance</th>\n",
       "    </tr>\n",
       "  </thead>\n",
       "  <tbody>\n",
       "    <tr>\n",
       "      <td>CAtBat</td>\n",
       "      <td>10.144562</td>\n",
       "    </tr>\n",
       "    <tr>\n",
       "      <td>CHits</td>\n",
       "      <td>9.516567</td>\n",
       "    </tr>\n",
       "    <tr>\n",
       "      <td>CRBI</td>\n",
       "      <td>9.102976</td>\n",
       "    </tr>\n",
       "    <tr>\n",
       "      <td>CRuns</td>\n",
       "      <td>8.935374</td>\n",
       "    </tr>\n",
       "    <tr>\n",
       "      <td>CWalks</td>\n",
       "      <td>8.259826</td>\n",
       "    </tr>\n",
       "    <tr>\n",
       "      <td>CHmRun</td>\n",
       "      <td>7.303784</td>\n",
       "    </tr>\n",
       "    <tr>\n",
       "      <td>Years</td>\n",
       "      <td>6.110100</td>\n",
       "    </tr>\n",
       "    <tr>\n",
       "      <td>Hits</td>\n",
       "      <td>6.020405</td>\n",
       "    </tr>\n",
       "    <tr>\n",
       "      <td>Walks</td>\n",
       "      <td>5.527785</td>\n",
       "    </tr>\n",
       "    <tr>\n",
       "      <td>RBI</td>\n",
       "      <td>5.481151</td>\n",
       "    </tr>\n",
       "    <tr>\n",
       "      <td>AtBat</td>\n",
       "      <td>5.228074</td>\n",
       "    </tr>\n",
       "    <tr>\n",
       "      <td>PutOuts</td>\n",
       "      <td>4.700923</td>\n",
       "    </tr>\n",
       "    <tr>\n",
       "      <td>Runs</td>\n",
       "      <td>4.517830</td>\n",
       "    </tr>\n",
       "    <tr>\n",
       "      <td>HmRun</td>\n",
       "      <td>3.774369</td>\n",
       "    </tr>\n",
       "    <tr>\n",
       "      <td>Assists</td>\n",
       "      <td>2.116377</td>\n",
       "    </tr>\n",
       "    <tr>\n",
       "      <td>Errors</td>\n",
       "      <td>1.750985</td>\n",
       "    </tr>\n",
       "    <tr>\n",
       "      <td>Division_W</td>\n",
       "      <td>0.617904</td>\n",
       "    </tr>\n",
       "    <tr>\n",
       "      <td>NewLeague_N</td>\n",
       "      <td>0.499079</td>\n",
       "    </tr>\n",
       "    <tr>\n",
       "      <td>League_N</td>\n",
       "      <td>0.391928</td>\n",
       "    </tr>\n",
       "  </tbody>\n",
       "</table>\n",
       "</div>"
      ],
      "text/plain": [
       "             Importance\n",
       "CAtBat        10.144562\n",
       "CHits          9.516567\n",
       "CRBI           9.102976\n",
       "CRuns          8.935374\n",
       "CWalks         8.259826\n",
       "CHmRun         7.303784\n",
       "Years          6.110100\n",
       "Hits           6.020405\n",
       "Walks          5.527785\n",
       "RBI            5.481151\n",
       "AtBat          5.228074\n",
       "PutOuts        4.700923\n",
       "Runs           4.517830\n",
       "HmRun          3.774369\n",
       "Assists        2.116377\n",
       "Errors         1.750985\n",
       "Division_W     0.617904\n",
       "NewLeague_N    0.499079\n",
       "League_N       0.391928"
      ]
     },
     "execution_count": 35,
     "metadata": {},
     "output_type": "execute_result"
    }
   ],
   "source": [
    "Importance.sort_values(by=\"Importance\",axis=0,ascending=False)"
   ]
  },
  {
   "cell_type": "code",
   "execution_count": 33,
   "metadata": {},
   "outputs": [
    {
     "data": {
      "text/plain": [
       "<matplotlib.axes._subplots.AxesSubplot at 0x226978932c8>"
      ]
     },
     "execution_count": 33,
     "metadata": {},
     "output_type": "execute_result"
    },
    {
     "data": {
      "image/png": "[encoded data removed]",
      "text/plain": [
       "<Figure size 432x288 with 1 Axes>"
      ]
     },
     "metadata": {
      "needs_background": "light"
     },
     "output_type": "display_data"
    }
   ],
   "source": [
    "Importance.sort_values(by=\"Importance\",axis=0,ascending=True).plot(kind=\"barh\",color=\"r\")"
   ]
  },
  {
   "cell_type": "markdown",
   "metadata": {},
   "source": [
    "# GBM"
   ]
  },
  {
   "cell_type": "code",
   "execution_count": 11,
   "metadata": {},
   "outputs": [],
   "source": [
    "from sklearn.ensemble import GradientBoostingRegressor\n",
    "gbm_model = GradientBoostingRegressor().fit(X_train,y_train)"
   ]
  },
  {
   "cell_type": "code",
   "execution_count": 7,
   "metadata": {},
   "outputs": [
    {
     "data": {
      "text/plain": [
       "GradientBoostingRegressor(alpha=0.9, criterion='friedman_mse', init=None,\n",
       "                          learning_rate=0.1, loss='ls', max_depth=3,\n",
       "                          max_features=None, max_leaf_nodes=None,\n",
       "                          min_impurity_decrease=0.0, min_impurity_split=None,\n",
       "                          min_samples_leaf=1, min_samples_split=2,\n",
       "                          min_weight_fraction_leaf=0.0, n_estimators=100,\n",
       "                          n_iter_no_change=None, presort='auto',\n",
       "                          random_state=None, subsample=1.0, tol=0.0001,\n",
       "                          validation_fraction=0.1, verbose=0, warm_start=False)"
      ]
     },
     "execution_count": 7,
     "metadata": {},
     "output_type": "execute_result"
    }
   ],
   "source": [
    "gbm_model"
   ]
  },
  {
   "cell_type": "code",
   "execution_count": 12,
   "metadata": {},
   "outputs": [
    {
     "data": {
      "text/plain": [
       "354.6439004977492"
      ]
     },
     "execution_count": 12,
     "metadata": {},
     "output_type": "execute_result"
    }
   ],
   "source": [
    "np.sqrt(mean_squared_error(y_test,gbm_model.predict(X_test)))"
   ]
  },
  {
   "cell_type": "code",
   "execution_count": 21,
   "metadata": {},
   "outputs": [],
   "source": [
    "gbm_params = {\n",
    "    \"learning_rate\":[0.001,0.1,0.01,0.5],\n",
    "    \"max_depth\":[3,5,10],\n",
    "    \"n_estimators\":[100,250,500],\n",
    "    \"subsample\":[0.5,0.7,1],\n",
    "    \"loss\":[\"ls\",\"lad\",\"quantile\"]\n",
    "}"
   ]
  },
  {
   "cell_type": "code",
   "execution_count": 22,
   "metadata": {},
   "outputs": [
    {
     "name": "stdout",
     "output_type": "stream",
     "text": [
      "Fitting 5 folds for each of 324 candidates, totalling 1620 fits\n"
     ]
    },
    {
     "name": "stderr",
     "output_type": "stream",
     "text": [
      "[Parallel(n_jobs=-1)]: Using backend LokyBackend with 8 concurrent workers.\n",
      "[Parallel(n_jobs=-1)]: Done  34 tasks      | elapsed:    1.6s\n",
      "[Parallel(n_jobs=-1)]: Done 200 tasks      | elapsed:   14.8s\n",
      "[Parallel(n_jobs=-1)]: Done 403 tasks      | elapsed:   40.3s\n",
      "[Parallel(n_jobs=-1)]: Done 686 tasks      | elapsed:  1.2min\n",
      "[Parallel(n_jobs=-1)]: Done 1051 tasks      | elapsed:  1.9min\n",
      "[Parallel(n_jobs=-1)]: Done 1496 tasks      | elapsed:  2.9min\n",
      "[Parallel(n_jobs=-1)]: Done 1620 out of 1620 | elapsed:  3.2min finished\n",
      "C:\\Users\\ardaa_iyfsapc\\Anaconda3\\lib\\site-packages\\sklearn\\model_selection\\_search.py:814: DeprecationWarning: The default of the `iid` parameter will change from True to False in version 0.22 and will be removed in 0.24. This will change numeric results when test-set sizes are unequal.\n",
      "  DeprecationWarning)\n"
     ]
    }
   ],
   "source": [
    "gbm_cv_model = GridSearchCV(gbm_model,gbm_params,cv=5,verbose=2,n_jobs=-1).fit(X_train,y_train)"
   ]
  },
  {
   "cell_type": "code",
   "execution_count": 23,
   "metadata": {},
   "outputs": [
    {
     "data": {
      "text/plain": [
       "{'learning_rate': 0.1,\n",
       " 'loss': 'lad',\n",
       " 'max_depth': 5,\n",
       " 'n_estimators': 500,\n",
       " 'subsample': 1}"
      ]
     },
     "execution_count": 23,
     "metadata": {},
     "output_type": "execute_result"
    }
   ],
   "source": [
    "gbm_cv_model.best_params_"
   ]
  },
  {
   "cell_type": "code",
   "execution_count": 24,
   "metadata": {},
   "outputs": [
    {
     "data": {
      "text/plain": [
       "320.6732558839615"
      ]
     },
     "execution_count": 24,
     "metadata": {},
     "output_type": "execute_result"
    }
   ],
   "source": [
    "gbm_model = GradientBoostingRegressor(loss=\"lad\",learning_rate=0.1,max_depth=3,n_estimators=500,subsample=0.7).fit(X_train,y_train)\n",
    "np.sqrt(mean_squared_error(y_test,gbm_model.predict(X_test)))"
   ]
  },
  {
   "cell_type": "markdown",
   "metadata": {},
   "source": [
    "# GBoost"
   ]
  },
  {
   "cell_type": "code",
   "execution_count": 1,
   "metadata": {},
   "outputs": [
    {
     "name": "stdout",
     "output_type": "stream",
     "text": [
      "Collecting xgboost\n",
      "  Downloading https://files.pythonhosted.org/packages/b8/1c/8384c92f40e9a4739d0b474573d9bfd19b7846b5d28f6c53294e2c5c5af4/xgboost-1.2.0-py3-none-win_amd64.whl (86.5MB)\n",
      "Requirement already satisfied: numpy in c:\\users\\ardaa_iyfsapc\\anaconda3\\lib\\site-packages (from xgboost) (1.16.5)\n",
      "Requirement already satisfied: scipy in c:\\users\\ardaa_iyfsapc\\anaconda3\\lib\\site-packages (from xgboost) (1.3.1)\n",
      "Installing collected packages: xgboost\n",
      "Successfully installed xgboost-1.2.0\n"
     ]
    }
   ],
   "source": [
    "!pip install xgboost"
   ]
  },
  {
   "cell_type": "code",
   "execution_count": 2,
   "metadata": {},
   "outputs": [],
   "source": [
    "from xgboost import XGBRegressor "
   ]
  },
  {
   "cell_type": "code",
   "execution_count": 5,
   "metadata": {},
   "outputs": [],
   "source": [
    "xgb = XGBRegressor().fit(X_train,y_train)"
   ]
  },
  {
   "cell_type": "code",
   "execution_count": 6,
   "metadata": {},
   "outputs": [
    {
     "data": {
      "text/plain": [
       "355.4651481224188"
      ]
     },
     "execution_count": 6,
     "metadata": {},
     "output_type": "execute_result"
    }
   ],
   "source": [
    "np.sqrt(mean_squared_error(y_test,xgb.predict(X_test)))"
   ]
  },
  {
   "cell_type": "markdown",
   "metadata": {},
   "source": [
    "### Tuning"
   ]
  },
  {
   "cell_type": "code",
   "execution_count": 7,
   "metadata": {},
   "outputs": [],
   "source": [
    "xgb_params = {\n",
    "    'learning_rate':[0.1,0.5,0.01],\n",
    "    'max_depth':[2,3,4,5],\n",
    "    'n_estimators':[100,200,500,1000],\n",
    "    'colsample_bytree':[0.4,0.7,1]\n",
    "             }"
   ]
  },
  {
   "cell_type": "code",
   "execution_count": 13,
   "metadata": {},
   "outputs": [
    {
     "name": "stdout",
     "output_type": "stream",
     "text": [
      "Fitting 10 folds for each of 144 candidates, totalling 1440 fits\n"
     ]
    },
    {
     "name": "stderr",
     "output_type": "stream",
     "text": [
      "[Parallel(n_jobs=-1)]: Using backend LokyBackend with 8 concurrent workers.\n",
      "[Parallel(n_jobs=-1)]: Done  52 tasks      | elapsed:    1.4s\n",
      "[Parallel(n_jobs=-1)]: Done 386 tasks      | elapsed:   11.6s\n",
      "[Parallel(n_jobs=-1)]: Done 664 tasks      | elapsed:   24.0s\n",
      "[Parallel(n_jobs=-1)]: Done 947 tasks      | elapsed:   36.1s\n",
      "[Parallel(n_jobs=-1)]: Done 1312 tasks      | elapsed:   52.5s\n",
      "[Parallel(n_jobs=-1)]: Done 1440 out of 1440 | elapsed:  1.0min finished\n",
      "C:\\Users\\ardaa_iyfsapc\\Anaconda3\\lib\\site-packages\\sklearn\\model_selection\\_search.py:814: DeprecationWarning: The default of the `iid` parameter will change from True to False in version 0.22 and will be removed in 0.24. This will change numeric results when test-set sizes are unequal.\n",
      "  DeprecationWarning)\n"
     ]
    }
   ],
   "source": [
    "xgb_cv = GridSearchCV(xgb,xgb_params,cv=10,n_jobs=-1,verbose=2).fit(X_train,y_train)"
   ]
  },
  {
   "cell_type": "code",
   "execution_count": 14,
   "metadata": {},
   "outputs": [
    {
     "data": {
      "text/plain": [
       "{'colsample_bytree': 0.4,\n",
       " 'learning_rate': 0.1,\n",
       " 'max_depth': 2,\n",
       " 'n_estimators': 1000}"
      ]
     },
     "execution_count": 14,
     "metadata": {},
     "output_type": "execute_result"
    }
   ],
   "source": [
    "xgb_cv.best_params_"
   ]
  },
  {
   "cell_type": "code",
   "execution_count": 15,
   "metadata": {},
   "outputs": [
    {
     "data": {
      "text/plain": [
       "333.77027332880806"
      ]
     },
     "execution_count": 15,
     "metadata": {},
     "output_type": "execute_result"
    }
   ],
   "source": [
    "xgb_tuning = XGBRegressor(colsample_bytree=0.7,learning_rate=0.5,max_depth=2,n_estimators=100).fit(X_train,y_train)\n",
    "np.sqrt(mean_squared_error(y_test,xgb_tuning.predict(X_test)))"
   ]
  },
  {
   "cell_type": "markdown",
   "metadata": {},
   "source": [
    "# Light GBM"
   ]
  },
  {
   "cell_type": "code",
   "execution_count": 3,
   "metadata": {},
   "outputs": [
    {
     "name": "stdout",
     "output_type": "stream",
     "text": [
      "Collecting lightgbm\n",
      "  Downloading https://files.pythonhosted.org/packages/dc/b0/efabbd6765f0d7c27ae8671b98dcdc8eb04f3104c580edd2f03501a0d527/lightgbm-3.0.0-py2.py3-none-win_amd64.whl (737kB)\n",
      "Requirement already satisfied: scipy in c:\\users\\ardaa_iyfsapc\\anaconda3\\lib\\site-packages (from lightgbm) (1.3.1)\n",
      "Requirement already satisfied: scikit-learn!=0.22.0 in c:\\users\\ardaa_iyfsapc\\anaconda3\\lib\\site-packages (from lightgbm) (0.21.3)\n",
      "Requirement already satisfied: numpy in c:\\users\\ardaa_iyfsapc\\anaconda3\\lib\\site-packages (from lightgbm) (1.16.5)\n",
      "Requirement already satisfied: joblib>=0.11 in c:\\users\\ardaa_iyfsapc\\anaconda3\\lib\\site-packages (from scikit-learn!=0.22.0->lightgbm) (0.13.2)\n",
      "Installing collected packages: lightgbm\n",
      "Successfully installed lightgbm-3.0.0\n"
     ]
    }
   ],
   "source": [
    "!pip install lightgbm"
   ]
  },
  {
   "cell_type": "code",
   "execution_count": 6,
   "metadata": {},
   "outputs": [],
   "source": [
    "from lightgbm import LGBMRegressor"
   ]
  },
  {
   "cell_type": "code",
   "execution_count": 11,
   "metadata": {},
   "outputs": [
    {
     "data": {
      "text/plain": [
       "363.8712087611089"
      ]
     },
     "execution_count": 11,
     "metadata": {},
     "output_type": "execute_result"
    }
   ],
   "source": [
    "lgb_model = LGBMRegressor().fit(X_train,y_train)\n",
    "np.sqrt(mean_squared_error(y_test,lgb_model.predict(X_test)))"
   ]
  },
  {
   "cell_type": "code",
   "execution_count": 12,
   "metadata": {},
   "outputs": [
    {
     "data": {
      "text/plain": [
       "LGBMRegressor(boosting_type='gbdt', class_weight=None, colsample_bytree=1.0,\n",
       "              importance_type='split', learning_rate=0.1, max_depth=-1,\n",
       "              min_child_samples=20, min_child_weight=0.001, min_split_gain=0.0,\n",
       "              n_estimators=100, n_jobs=-1, num_leaves=31, objective=None,\n",
       "              random_state=None, reg_alpha=0.0, reg_lambda=0.0, silent=True,\n",
       "              subsample=1.0, subsample_for_bin=200000, subsample_freq=0)"
      ]
     },
     "execution_count": 12,
     "metadata": {},
     "output_type": "execute_result"
    }
   ],
   "source": [
    "lgb_model"
   ]
  },
  {
   "cell_type": "markdown",
   "metadata": {},
   "source": [
    "## Tuning"
   ]
  },
  {
   "cell_type": "code",
   "execution_count": 24,
   "metadata": {},
   "outputs": [],
   "source": [
    "lgb_params = {\n",
    "    \"learning_rate\":[0.1,0.01,0.05,0.5],\n",
    "    \"max_depth\":[1,2,3,4,6],\n",
    "    \"n_estimators\":[20,40,100,250,500]\n",
    "}"
   ]
  },
  {
   "cell_type": "code",
   "execution_count": 25,
   "metadata": {},
   "outputs": [
    {
     "name": "stdout",
     "output_type": "stream",
     "text": [
      "Fitting 10 folds for each of 400 candidates, totalling 4000 fits\n"
     ]
    },
    {
     "name": "stderr",
     "output_type": "stream",
     "text": [
      "[Parallel(n_jobs=-1)]: Using backend LokyBackend with 8 concurrent workers.\n",
      "[Parallel(n_jobs=-1)]: Done  88 tasks      | elapsed:    0.5s\n",
      "[Parallel(n_jobs=-1)]: Done 1056 tasks      | elapsed:    7.4s\n",
      "[Parallel(n_jobs=-1)]: Done 2680 tasks      | elapsed:   19.9s\n",
      "[Parallel(n_jobs=-1)]: Done 4000 out of 4000 | elapsed:   31.4s finished\n",
      "C:\\Users\\ardaa_iyfsapc\\Anaconda3\\lib\\site-packages\\sklearn\\model_selection\\_search.py:814: DeprecationWarning: The default of the `iid` parameter will change from True to False in version 0.22 and will be removed in 0.24. This will change numeric results when test-set sizes are unequal.\n",
      "  DeprecationWarning)\n"
     ]
    }
   ],
   "source": [
    "lgbm_cv = GridSearchCV(lgb_model,lgb_params,cv=10,n_jobs=-1,verbose=2).fit(X_train,y_train)"
   ]
  },
  {
   "cell_type": "code",
   "execution_count": 26,
   "metadata": {},
   "outputs": [
    {
     "data": {
      "text/plain": [
       "{'learning_rate': 0.1, 'max_depth': 6, 'n_estimators': 20, 'num_leaves': 20}"
      ]
     },
     "execution_count": 26,
     "metadata": {},
     "output_type": "execute_result"
    }
   ],
   "source": [
    "lgbm_cv.best_params_"
   ]
  },
  {
   "cell_type": "code",
   "execution_count": 36,
   "metadata": {},
   "outputs": [
    {
     "data": {
      "text/plain": [
       "371.5044868943621"
      ]
     },
     "execution_count": 36,
     "metadata": {},
     "output_type": "execute_result"
    }
   ],
   "source": [
    "lgb_model = LGBMRegressor(learning_rate=0.1,max_depth=6,n_estimators=20).fit(X_train,y_train)\n",
    "np.sqrt(mean_squared_error(y_test,lgb_model.predict(X_test)))"
   ]
  },
  {
   "cell_type": "markdown",
   "metadata": {},
   "source": [
    "# CAT boost"
   ]
  },
  {
   "cell_type": "code",
   "execution_count": 37,
   "metadata": {
    "collapsed": true,
    "jupyter": {
     "outputs_hidden": true
    }
   },
   "outputs": [
    {
     "name": "stdout",
     "output_type": "stream",
     "text": [
      "Collecting catboost\n",
      "  Downloading https://files.pythonhosted.org/packages/03/f6/e179ca7e5a1d2a1b53fa4ea682281e7f815b00481f49b3ec410625779ad7/catboost-0.24.1-cp37-none-win_amd64.whl (65.3MB)\n",
      "Collecting graphviz (from catboost)\n",
      "  Downloading https://files.pythonhosted.org/packages/62/dc/9dd6a6b9b8977248e165e075b109eea6e8eac71faa28ca378c3d98e54fbe/graphviz-0.14.1-py2.py3-none-any.whl\n",
      "Requirement already satisfied: matplotlib in c:\\users\\ardaa_iyfsapc\\anaconda3\\lib\\site-packages (from catboost) (3.1.1)\n",
      "Collecting plotly (from catboost)\n",
      "  Downloading https://files.pythonhosted.org/packages/04/20/c2d77eef33dbd40c5e3263a9a8763ffca610a4c3d2b2da21c5601e5fc5d8/plotly-4.10.0-py2.py3-none-any.whl (13.0MB)\n",
      "Requirement already satisfied: six in c:\\users\\ardaa_iyfsapc\\anaconda3\\lib\\site-packages (from catboost) (1.12.0)\n",
      "Requirement already satisfied: scipy in c:\\users\\ardaa_iyfsapc\\anaconda3\\lib\\site-packages (from catboost) (1.3.1)\n",
      "Requirement already satisfied: pandas>=0.24.0 in c:\\users\\ardaa_iyfsapc\\anaconda3\\lib\\site-packages (from catboost) (0.25.1)\n",
      "Requirement already satisfied: numpy>=1.16.0 in c:\\users\\ardaa_iyfsapc\\anaconda3\\lib\\site-packages (from catboost) (1.16.5)\n",
      "Requirement already satisfied: cycler>=0.10 in c:\\users\\ardaa_iyfsapc\\anaconda3\\lib\\site-packages (from matplotlib->catboost) (0.10.0)\n",
      "Requirement already satisfied: kiwisolver>=1.0.1 in c:\\users\\ardaa_iyfsapc\\anaconda3\\lib\\site-packages (from matplotlib->catboost) (1.1.0)\n",
      "Requirement already satisfied: pyparsing!=2.0.4,!=2.1.2,!=2.1.6,>=2.0.1 in c:\\users\\ardaa_iyfsapc\\anaconda3\\lib\\site-packages (from matplotlib->catboost) (2.4.2)\n",
      "Requirement already satisfied: python-dateutil>=2.1 in c:\\users\\ardaa_iyfsapc\\anaconda3\\lib\\site-packages (from matplotlib->catboost) (2.8.0)\n",
      "Collecting retrying>=1.3.3 (from plotly->catboost)\n",
      "  Downloading https://files.pythonhosted.org/packages/44/ef/beae4b4ef80902f22e3af073397f079c96969c69b2c7d52a57ea9ae61c9d/retrying-1.3.3.tar.gz\n",
      "Requirement already satisfied: pytz>=2017.2 in c:\\users\\ardaa_iyfsapc\\anaconda3\\lib\\site-packages (from pandas>=0.24.0->catboost) (2019.3)\n",
      "Requirement already satisfied: setuptools in c:\\users\\ardaa_iyfsapc\\anaconda3\\lib\\site-packages (from kiwisolver>=1.0.1->matplotlib->catboost) (41.4.0)\n",
      "Building wheels for collected packages: retrying\n",
      "  Building wheel for retrying (setup.py): started\n",
      "  Building wheel for retrying (setup.py): finished with status 'done'\n",
      "  Created wheel for retrying: filename=retrying-1.3.3-cp37-none-any.whl size=11435 sha256=7e6b0ff2048d43e8d8f71109d07658a85157e397f391cf4c7c1169d2c5ec2e03\n",
      "  Stored in directory: C:\\Users\\ardaa_iyfsapc\\AppData\\Local\\pip\\Cache\\wheels\\d7\\a9\\33\\acc7b709e2a35caa7d4cae442f6fe6fbf2c43f80823d46460c\n",
      "Successfully built retrying\n",
      "Installing collected packages: graphviz, retrying, plotly, catboost\n",
      "Successfully installed catboost-0.24.1 graphviz-0.14.1 plotly-4.10.0 retrying-1.3.3\n"
     ]
    }
   ],
   "source": [
    "!pip install catboost"
   ]
  },
  {
   "cell_type": "code",
   "execution_count": 39,
   "metadata": {},
   "outputs": [],
   "source": [
    "from catboost import CatBoostRegressor"
   ]
  },
  {
   "cell_type": "code",
   "execution_count": 41,
   "metadata": {
    "collapsed": true,
    "jupyter": {
     "outputs_hidden": true
    }
   },
   "outputs": [
    {
     "name": "stdout",
     "output_type": "stream",
     "text": [
      "Learning rate set to 0.029229\n",
      "0:\tlearn: 438.1974206\ttotal: 1.96ms\tremaining: 1.96s\n",
      "1:\tlearn: 432.4168868\ttotal: 3.3ms\tremaining: 1.65s\n",
      "2:\tlearn: 426.3836690\ttotal: 5.44ms\tremaining: 1.81s\n",
      "3:\tlearn: 420.2261014\ttotal: 7.08ms\tremaining: 1.76s\n",
      "4:\tlearn: 414.9976675\ttotal: 8.57ms\tremaining: 1.71s\n",
      "5:\tlearn: 409.6125323\ttotal: 9.95ms\tremaining: 1.65s\n",
      "6:\tlearn: 403.9277911\ttotal: 11.3ms\tremaining: 1.6s\n",
      "7:\tlearn: 398.4395285\ttotal: 12.5ms\tremaining: 1.55s\n",
      "8:\tlearn: 392.4517081\ttotal: 13.8ms\tremaining: 1.52s\n",
      "9:\tlearn: 387.4871123\ttotal: 15.1ms\tremaining: 1.49s\n",
      "10:\tlearn: 382.6230510\ttotal: 16.4ms\tremaining: 1.47s\n",
      "11:\tlearn: 378.1012454\ttotal: 17.7ms\tremaining: 1.46s\n",
      "12:\tlearn: 372.6002306\ttotal: 19.9ms\tremaining: 1.51s\n",
      "13:\tlearn: 368.4682192\ttotal: 21.5ms\tremaining: 1.51s\n",
      "14:\tlearn: 364.0565766\ttotal: 22.9ms\tremaining: 1.5s\n",
      "15:\tlearn: 359.5683249\ttotal: 24.2ms\tremaining: 1.49s\n",
      "16:\tlearn: 355.1782794\ttotal: 25.7ms\tremaining: 1.49s\n",
      "17:\tlearn: 350.4689946\ttotal: 27.3ms\tremaining: 1.49s\n",
      "18:\tlearn: 346.2553348\ttotal: 28.7ms\tremaining: 1.48s\n",
      "19:\tlearn: 341.7051884\ttotal: 30.1ms\tremaining: 1.47s\n",
      "20:\tlearn: 337.8343606\ttotal: 31.4ms\tremaining: 1.46s\n",
      "21:\tlearn: 333.7956702\ttotal: 33.7ms\tremaining: 1.5s\n",
      "22:\tlearn: 329.8867930\ttotal: 35.2ms\tremaining: 1.49s\n",
      "23:\tlearn: 326.1844372\ttotal: 36.6ms\tremaining: 1.49s\n",
      "24:\tlearn: 323.1315580\ttotal: 38.1ms\tremaining: 1.49s\n",
      "25:\tlearn: 319.3322885\ttotal: 39.6ms\tremaining: 1.48s\n",
      "26:\tlearn: 316.2039164\ttotal: 41ms\tremaining: 1.48s\n",
      "27:\tlearn: 313.2598806\ttotal: 42.6ms\tremaining: 1.48s\n",
      "28:\tlearn: 310.1086898\ttotal: 43.9ms\tremaining: 1.47s\n",
      "29:\tlearn: 307.0508553\ttotal: 45.5ms\tremaining: 1.47s\n",
      "30:\tlearn: 304.5843401\ttotal: 47.4ms\tremaining: 1.48s\n",
      "31:\tlearn: 301.6708432\ttotal: 48.9ms\tremaining: 1.48s\n",
      "32:\tlearn: 298.9175443\ttotal: 50.3ms\tremaining: 1.47s\n",
      "33:\tlearn: 296.1231309\ttotal: 51.6ms\tremaining: 1.47s\n",
      "34:\tlearn: 293.2359275\ttotal: 53.8ms\tremaining: 1.48s\n",
      "35:\tlearn: 290.3999850\ttotal: 55ms\tremaining: 1.47s\n",
      "36:\tlearn: 287.8958674\ttotal: 56.4ms\tremaining: 1.47s\n",
      "37:\tlearn: 285.6692571\ttotal: 57.7ms\tremaining: 1.46s\n",
      "38:\tlearn: 282.9812904\ttotal: 59.2ms\tremaining: 1.46s\n",
      "39:\tlearn: 280.6302291\ttotal: 60.7ms\tremaining: 1.46s\n",
      "40:\tlearn: 278.2767119\ttotal: 62.1ms\tremaining: 1.45s\n",
      "41:\tlearn: 276.0589541\ttotal: 63.4ms\tremaining: 1.45s\n",
      "42:\tlearn: 273.6619286\ttotal: 64.7ms\tremaining: 1.44s\n",
      "43:\tlearn: 271.1128163\ttotal: 66.1ms\tremaining: 1.44s\n",
      "44:\tlearn: 268.9091716\ttotal: 67.5ms\tremaining: 1.43s\n",
      "45:\tlearn: 266.3675542\ttotal: 69ms\tremaining: 1.43s\n",
      "46:\tlearn: 263.7815611\ttotal: 70.3ms\tremaining: 1.43s\n",
      "47:\tlearn: 261.8160223\ttotal: 71.6ms\tremaining: 1.42s\n",
      "48:\tlearn: 259.7109561\ttotal: 72.9ms\tremaining: 1.41s\n",
      "49:\tlearn: 257.7200276\ttotal: 75.5ms\tremaining: 1.43s\n",
      "50:\tlearn: 255.7835524\ttotal: 76.9ms\tremaining: 1.43s\n",
      "51:\tlearn: 253.8406902\ttotal: 78ms\tremaining: 1.42s\n",
      "52:\tlearn: 251.6896611\ttotal: 79.2ms\tremaining: 1.41s\n",
      "53:\tlearn: 250.0830915\ttotal: 80.9ms\tremaining: 1.42s\n",
      "54:\tlearn: 248.3689069\ttotal: 82.1ms\tremaining: 1.41s\n",
      "55:\tlearn: 246.2718937\ttotal: 83.3ms\tremaining: 1.4s\n",
      "56:\tlearn: 244.3923224\ttotal: 84.7ms\tremaining: 1.4s\n",
      "57:\tlearn: 242.3040669\ttotal: 85.8ms\tremaining: 1.39s\n",
      "58:\tlearn: 240.5357981\ttotal: 87.4ms\tremaining: 1.39s\n",
      "59:\tlearn: 238.7009594\ttotal: 89.2ms\tremaining: 1.4s\n",
      "60:\tlearn: 237.2676945\ttotal: 90.4ms\tremaining: 1.39s\n",
      "61:\tlearn: 235.7252656\ttotal: 91.6ms\tremaining: 1.39s\n",
      "62:\tlearn: 234.1007596\ttotal: 92.8ms\tremaining: 1.38s\n",
      "63:\tlearn: 232.4179971\ttotal: 93.8ms\tremaining: 1.37s\n",
      "64:\tlearn: 231.1643497\ttotal: 95ms\tremaining: 1.37s\n",
      "65:\tlearn: 229.6810852\ttotal: 96ms\tremaining: 1.36s\n",
      "66:\tlearn: 228.1714231\ttotal: 97.3ms\tremaining: 1.35s\n",
      "67:\tlearn: 226.9338286\ttotal: 98.4ms\tremaining: 1.35s\n",
      "68:\tlearn: 226.0780127\ttotal: 99.6ms\tremaining: 1.34s\n",
      "69:\tlearn: 224.6598569\ttotal: 101ms\tremaining: 1.35s\n",
      "70:\tlearn: 223.1110463\ttotal: 103ms\tremaining: 1.34s\n",
      "71:\tlearn: 221.6545694\ttotal: 104ms\tremaining: 1.34s\n",
      "72:\tlearn: 220.2670639\ttotal: 105ms\tremaining: 1.33s\n",
      "73:\tlearn: 218.9738032\ttotal: 107ms\tremaining: 1.33s\n",
      "74:\tlearn: 217.9247112\ttotal: 108ms\tremaining: 1.33s\n",
      "75:\tlearn: 216.9202490\ttotal: 109ms\tremaining: 1.32s\n",
      "76:\tlearn: 215.5989131\ttotal: 110ms\tremaining: 1.32s\n",
      "77:\tlearn: 214.3540917\ttotal: 111ms\tremaining: 1.32s\n",
      "78:\tlearn: 213.4575339\ttotal: 113ms\tremaining: 1.31s\n",
      "79:\tlearn: 212.1036261\ttotal: 114ms\tremaining: 1.31s\n",
      "80:\tlearn: 210.8030392\ttotal: 115ms\tremaining: 1.31s\n",
      "81:\tlearn: 209.5290460\ttotal: 117ms\tremaining: 1.3s\n",
      "82:\tlearn: 208.0255508\ttotal: 118ms\tremaining: 1.3s\n",
      "83:\tlearn: 206.9124270\ttotal: 119ms\tremaining: 1.3s\n",
      "84:\tlearn: 205.5903017\ttotal: 120ms\tremaining: 1.29s\n",
      "85:\tlearn: 204.6057051\ttotal: 121ms\tremaining: 1.29s\n",
      "86:\tlearn: 203.7128429\ttotal: 123ms\tremaining: 1.29s\n",
      "87:\tlearn: 202.7663836\ttotal: 124ms\tremaining: 1.28s\n",
      "88:\tlearn: 201.9026542\ttotal: 125ms\tremaining: 1.28s\n",
      "89:\tlearn: 200.7729520\ttotal: 126ms\tremaining: 1.28s\n",
      "90:\tlearn: 199.6909954\ttotal: 128ms\tremaining: 1.28s\n",
      "91:\tlearn: 198.6341430\ttotal: 130ms\tremaining: 1.28s\n",
      "92:\tlearn: 197.6117675\ttotal: 131ms\tremaining: 1.28s\n",
      "93:\tlearn: 196.5198483\ttotal: 132ms\tremaining: 1.27s\n",
      "94:\tlearn: 195.5443940\ttotal: 133ms\tremaining: 1.27s\n",
      "95:\tlearn: 194.4203970\ttotal: 135ms\tremaining: 1.27s\n",
      "96:\tlearn: 193.2677508\ttotal: 136ms\tremaining: 1.27s\n",
      "97:\tlearn: 192.1768427\ttotal: 138ms\tremaining: 1.26s\n",
      "98:\tlearn: 191.2356955\ttotal: 140ms\tremaining: 1.27s\n",
      "99:\tlearn: 189.9934546\ttotal: 141ms\tremaining: 1.27s\n",
      "100:\tlearn: 189.2719006\ttotal: 143ms\tremaining: 1.27s\n",
      "101:\tlearn: 188.1079321\ttotal: 144ms\tremaining: 1.27s\n",
      "102:\tlearn: 187.1211517\ttotal: 145ms\tremaining: 1.26s\n",
      "103:\tlearn: 185.9059118\ttotal: 147ms\tremaining: 1.26s\n",
      "104:\tlearn: 185.2620919\ttotal: 148ms\tremaining: 1.26s\n",
      "105:\tlearn: 184.4349037\ttotal: 150ms\tremaining: 1.26s\n",
      "106:\tlearn: 183.1846237\ttotal: 152ms\tremaining: 1.27s\n",
      "107:\tlearn: 182.1448077\ttotal: 154ms\tremaining: 1.27s\n",
      "108:\tlearn: 181.4787170\ttotal: 156ms\tremaining: 1.27s\n",
      "109:\tlearn: 180.6789032\ttotal: 157ms\tremaining: 1.27s\n",
      "110:\tlearn: 179.9122461\ttotal: 158ms\tremaining: 1.27s\n",
      "111:\tlearn: 178.9952892\ttotal: 160ms\tremaining: 1.26s\n",
      "112:\tlearn: 178.6013107\ttotal: 161ms\tremaining: 1.26s\n",
      "113:\tlearn: 177.7090692\ttotal: 162ms\tremaining: 1.26s\n",
      "114:\tlearn: 176.7404828\ttotal: 163ms\tremaining: 1.26s\n",
      "115:\tlearn: 176.0415402\ttotal: 165ms\tremaining: 1.26s\n",
      "116:\tlearn: 175.5315148\ttotal: 166ms\tremaining: 1.25s\n",
      "117:\tlearn: 174.8976738\ttotal: 167ms\tremaining: 1.25s\n",
      "118:\tlearn: 174.0530870\ttotal: 168ms\tremaining: 1.25s\n",
      "119:\tlearn: 173.0700181\ttotal: 169ms\tremaining: 1.24s\n",
      "120:\tlearn: 172.2832739\ttotal: 170ms\tremaining: 1.24s\n",
      "121:\tlearn: 171.4960220\ttotal: 171ms\tremaining: 1.23s\n",
      "122:\tlearn: 171.0402978\ttotal: 173ms\tremaining: 1.23s\n",
      "123:\tlearn: 170.7119169\ttotal: 174ms\tremaining: 1.23s\n",
      "124:\tlearn: 169.6907823\ttotal: 175ms\tremaining: 1.22s\n",
      "125:\tlearn: 169.2063700\ttotal: 176ms\tremaining: 1.22s\n",
      "126:\tlearn: 168.1597529\ttotal: 178ms\tremaining: 1.22s\n",
      "127:\tlearn: 167.3156403\ttotal: 179ms\tremaining: 1.22s\n",
      "128:\tlearn: 166.3187281\ttotal: 181ms\tremaining: 1.22s\n",
      "129:\tlearn: 166.1101656\ttotal: 182ms\tremaining: 1.22s\n",
      "130:\tlearn: 165.5420012\ttotal: 184ms\tremaining: 1.22s\n",
      "131:\tlearn: 164.6237022\ttotal: 185ms\tremaining: 1.22s\n",
      "132:\tlearn: 163.7646814\ttotal: 186ms\tremaining: 1.21s\n",
      "133:\tlearn: 163.3971858\ttotal: 188ms\tremaining: 1.21s\n",
      "134:\tlearn: 162.8775666\ttotal: 189ms\tremaining: 1.21s\n",
      "135:\tlearn: 162.3591190\ttotal: 191ms\tremaining: 1.21s\n",
      "136:\tlearn: 161.8515150\ttotal: 193ms\tremaining: 1.21s\n",
      "137:\tlearn: 161.2542226\ttotal: 194ms\tremaining: 1.21s\n",
      "138:\tlearn: 160.5899334\ttotal: 195ms\tremaining: 1.21s\n",
      "139:\tlearn: 159.6307999\ttotal: 196ms\tremaining: 1.21s\n",
      "140:\tlearn: 159.0055431\ttotal: 197ms\tremaining: 1.2s\n",
      "141:\tlearn: 158.2566894\ttotal: 199ms\tremaining: 1.2s\n",
      "142:\tlearn: 157.6496356\ttotal: 200ms\tremaining: 1.2s\n",
      "143:\tlearn: 157.1590393\ttotal: 201ms\tremaining: 1.2s\n",
      "144:\tlearn: 156.5730455\ttotal: 202ms\tremaining: 1.19s\n",
      "145:\tlearn: 155.8450985\ttotal: 204ms\tremaining: 1.2s\n",
      "146:\tlearn: 155.2439210\ttotal: 205ms\tremaining: 1.19s\n",
      "147:\tlearn: 154.9417796\ttotal: 207ms\tremaining: 1.19s\n",
      "148:\tlearn: 154.3763613\ttotal: 208ms\tremaining: 1.19s\n",
      "149:\tlearn: 153.9438757\ttotal: 210ms\tremaining: 1.19s\n",
      "150:\tlearn: 153.1854046\ttotal: 211ms\tremaining: 1.19s\n",
      "151:\tlearn: 152.8631442\ttotal: 212ms\tremaining: 1.18s\n",
      "152:\tlearn: 152.3115428\ttotal: 213ms\tremaining: 1.18s\n",
      "153:\tlearn: 151.8957029\ttotal: 214ms\tremaining: 1.18s\n",
      "154:\tlearn: 151.1871329\ttotal: 216ms\tremaining: 1.18s\n",
      "155:\tlearn: 150.6828564\ttotal: 217ms\tremaining: 1.18s\n",
      "156:\tlearn: 150.2509622\ttotal: 219ms\tremaining: 1.17s\n",
      "157:\tlearn: 149.6497659\ttotal: 220ms\tremaining: 1.17s\n",
      "158:\tlearn: 148.9332067\ttotal: 221ms\tremaining: 1.17s\n",
      "159:\tlearn: 148.7156418\ttotal: 222ms\tremaining: 1.16s\n",
      "160:\tlearn: 148.2737189\ttotal: 223ms\tremaining: 1.16s\n",
      "161:\tlearn: 147.9625721\ttotal: 224ms\tremaining: 1.16s\n",
      "162:\tlearn: 147.4564915\ttotal: 225ms\tremaining: 1.16s\n",
      "163:\tlearn: 146.8606991\ttotal: 226ms\tremaining: 1.15s\n",
      "164:\tlearn: 146.2386459\ttotal: 228ms\tremaining: 1.15s\n",
      "165:\tlearn: 145.7642228\ttotal: 229ms\tremaining: 1.15s\n",
      "166:\tlearn: 145.3792204\ttotal: 231ms\tremaining: 1.15s\n",
      "167:\tlearn: 145.0935465\ttotal: 232ms\tremaining: 1.15s\n",
      "168:\tlearn: 144.6976165\ttotal: 233ms\tremaining: 1.14s\n",
      "169:\tlearn: 143.9724403\ttotal: 234ms\tremaining: 1.14s\n",
      "170:\tlearn: 143.6449839\ttotal: 235ms\tremaining: 1.14s\n",
      "171:\tlearn: 143.1999180\ttotal: 237ms\tremaining: 1.14s\n",
      "172:\tlearn: 142.9381183\ttotal: 238ms\tremaining: 1.14s\n",
      "173:\tlearn: 142.3304601\ttotal: 239ms\tremaining: 1.13s\n",
      "174:\tlearn: 141.9229624\ttotal: 240ms\tremaining: 1.13s\n",
      "175:\tlearn: 141.4043903\ttotal: 241ms\tremaining: 1.13s\n",
      "176:\tlearn: 141.0209642\ttotal: 243ms\tremaining: 1.13s\n",
      "177:\tlearn: 140.4510865\ttotal: 244ms\tremaining: 1.13s\n",
      "178:\tlearn: 140.3441522\ttotal: 245ms\tremaining: 1.12s\n",
      "179:\tlearn: 139.8478562\ttotal: 246ms\tremaining: 1.12s\n",
      "180:\tlearn: 139.7464932\ttotal: 247ms\tremaining: 1.11s\n",
      "181:\tlearn: 139.2514614\ttotal: 248ms\tremaining: 1.11s\n",
      "182:\tlearn: 139.0274540\ttotal: 249ms\tremaining: 1.11s\n",
      "183:\tlearn: 138.4584181\ttotal: 250ms\tremaining: 1.11s\n",
      "184:\tlearn: 138.2093063\ttotal: 251ms\tremaining: 1.1s\n",
      "185:\tlearn: 137.8406250\ttotal: 252ms\tremaining: 1.1s\n",
      "186:\tlearn: 137.7280816\ttotal: 253ms\tremaining: 1.1s\n",
      "187:\tlearn: 137.2465993\ttotal: 254ms\tremaining: 1.1s\n",
      "188:\tlearn: 136.7894765\ttotal: 256ms\tremaining: 1.1s\n",
      "189:\tlearn: 136.4857311\ttotal: 257ms\tremaining: 1.1s\n",
      "190:\tlearn: 136.0043713\ttotal: 258ms\tremaining: 1.09s\n",
      "191:\tlearn: 135.7523177\ttotal: 259ms\tremaining: 1.09s\n",
      "192:\tlearn: 135.3372675\ttotal: 261ms\tremaining: 1.09s\n",
      "193:\tlearn: 135.0202084\ttotal: 263ms\tremaining: 1.09s\n",
      "194:\tlearn: 134.7757422\ttotal: 264ms\tremaining: 1.09s\n",
      "195:\tlearn: 134.3546545\ttotal: 265ms\tremaining: 1.09s\n",
      "196:\tlearn: 133.9623627\ttotal: 266ms\tremaining: 1.08s\n",
      "197:\tlearn: 133.2648869\ttotal: 267ms\tremaining: 1.08s\n",
      "198:\tlearn: 132.9318972\ttotal: 269ms\tremaining: 1.08s\n",
      "199:\tlearn: 132.5119098\ttotal: 270ms\tremaining: 1.08s\n",
      "200:\tlearn: 131.8954412\ttotal: 271ms\tremaining: 1.08s\n",
      "201:\tlearn: 131.6115557\ttotal: 272ms\tremaining: 1.07s\n",
      "202:\tlearn: 131.2095441\ttotal: 273ms\tremaining: 1.07s\n",
      "203:\tlearn: 130.6658729\ttotal: 274ms\tremaining: 1.07s\n",
      "204:\tlearn: 130.3457517\ttotal: 275ms\tremaining: 1.07s\n",
      "205:\tlearn: 130.0833818\ttotal: 276ms\tremaining: 1.06s\n",
      "206:\tlearn: 129.7238048\ttotal: 278ms\tremaining: 1.06s\n",
      "207:\tlearn: 129.0671906\ttotal: 280ms\tremaining: 1.06s\n",
      "208:\tlearn: 128.7683402\ttotal: 282ms\tremaining: 1.07s\n",
      "209:\tlearn: 128.5832593\ttotal: 285ms\tremaining: 1.07s\n",
      "210:\tlearn: 128.3749444\ttotal: 286ms\tremaining: 1.07s\n",
      "211:\tlearn: 128.1143221\ttotal: 289ms\tremaining: 1.07s\n",
      "212:\tlearn: 127.9897497\ttotal: 291ms\tremaining: 1.07s\n",
      "213:\tlearn: 127.6815659\ttotal: 294ms\tremaining: 1.08s\n",
      "214:\tlearn: 127.2006697\ttotal: 296ms\tremaining: 1.08s\n",
      "215:\tlearn: 127.0352179\ttotal: 298ms\tremaining: 1.08s\n",
      "216:\tlearn: 126.9617234\ttotal: 300ms\tremaining: 1.08s\n",
      "217:\tlearn: 126.7776328\ttotal: 302ms\tremaining: 1.08s\n",
      "218:\tlearn: 126.3802524\ttotal: 303ms\tremaining: 1.08s\n",
      "219:\tlearn: 126.1995377\ttotal: 306ms\tremaining: 1.09s\n",
      "220:\tlearn: 126.1155383\ttotal: 309ms\tremaining: 1.09s\n",
      "221:\tlearn: 125.9832799\ttotal: 310ms\tremaining: 1.08s\n",
      "222:\tlearn: 125.7495770\ttotal: 311ms\tremaining: 1.08s\n",
      "223:\tlearn: 125.2409845\ttotal: 313ms\tremaining: 1.08s\n",
      "224:\tlearn: 124.9538099\ttotal: 314ms\tremaining: 1.08s\n",
      "225:\tlearn: 124.7089151\ttotal: 316ms\tremaining: 1.08s\n",
      "226:\tlearn: 124.3984858\ttotal: 318ms\tremaining: 1.08s\n",
      "227:\tlearn: 124.0014588\ttotal: 320ms\tremaining: 1.08s\n",
      "228:\tlearn: 123.7139174\ttotal: 321ms\tremaining: 1.08s\n",
      "229:\tlearn: 123.6555034\ttotal: 321ms\tremaining: 1.07s\n",
      "230:\tlearn: 123.3398368\ttotal: 322ms\tremaining: 1.07s\n",
      "231:\tlearn: 122.7561150\ttotal: 323ms\tremaining: 1.07s\n",
      "232:\tlearn: 122.5676806\ttotal: 325ms\tremaining: 1.07s\n",
      "233:\tlearn: 122.1759040\ttotal: 327ms\tremaining: 1.07s\n",
      "234:\tlearn: 121.5761316\ttotal: 328ms\tremaining: 1.07s\n",
      "235:\tlearn: 121.3308579\ttotal: 330ms\tremaining: 1.07s\n",
      "236:\tlearn: 120.6316918\ttotal: 331ms\tremaining: 1.07s\n",
      "237:\tlearn: 120.0241441\ttotal: 332ms\tremaining: 1.06s\n",
      "238:\tlearn: 119.6974692\ttotal: 333ms\tremaining: 1.06s\n",
      "239:\tlearn: 119.5295579\ttotal: 335ms\tremaining: 1.06s\n",
      "240:\tlearn: 118.8105516\ttotal: 337ms\tremaining: 1.06s\n",
      "241:\tlearn: 118.5001438\ttotal: 338ms\tremaining: 1.06s\n",
      "242:\tlearn: 118.1525333\ttotal: 339ms\tremaining: 1.05s\n",
      "243:\tlearn: 117.8294708\ttotal: 340ms\tremaining: 1.05s\n",
      "244:\tlearn: 117.4650856\ttotal: 341ms\tremaining: 1.05s\n",
      "245:\tlearn: 117.2329146\ttotal: 343ms\tremaining: 1.05s\n",
      "246:\tlearn: 116.6281150\ttotal: 345ms\tremaining: 1.05s\n",
      "247:\tlearn: 116.4382173\ttotal: 346ms\tremaining: 1.05s\n",
      "248:\tlearn: 115.7804838\ttotal: 347ms\tremaining: 1.05s\n",
      "249:\tlearn: 115.4468389\ttotal: 348ms\tremaining: 1.04s\n",
      "250:\tlearn: 115.2535858\ttotal: 350ms\tremaining: 1.04s\n",
      "251:\tlearn: 115.0959725\ttotal: 351ms\tremaining: 1.04s\n",
      "252:\tlearn: 114.5054098\ttotal: 353ms\tremaining: 1.04s\n",
      "253:\tlearn: 114.2196805\ttotal: 354ms\tremaining: 1.04s\n",
      "254:\tlearn: 113.9389493\ttotal: 356ms\tremaining: 1.04s\n",
      "255:\tlearn: 113.8318782\ttotal: 358ms\tremaining: 1.04s\n",
      "256:\tlearn: 113.7010766\ttotal: 360ms\tremaining: 1.04s\n",
      "257:\tlearn: 113.5349213\ttotal: 362ms\tremaining: 1.04s\n",
      "258:\tlearn: 113.2939692\ttotal: 363ms\tremaining: 1.04s\n",
      "259:\tlearn: 112.8734855\ttotal: 365ms\tremaining: 1.04s\n",
      "260:\tlearn: 112.2073904\ttotal: 366ms\tremaining: 1.03s\n",
      "261:\tlearn: 111.7098455\ttotal: 367ms\tremaining: 1.03s\n",
      "262:\tlearn: 111.4861643\ttotal: 369ms\tremaining: 1.03s\n",
      "263:\tlearn: 111.4065123\ttotal: 370ms\tremaining: 1.03s\n",
      "264:\tlearn: 110.9193214\ttotal: 371ms\tremaining: 1.03s\n",
      "265:\tlearn: 110.2486713\ttotal: 373ms\tremaining: 1.03s\n",
      "266:\tlearn: 110.1718829\ttotal: 374ms\tremaining: 1.03s\n",
      "267:\tlearn: 109.8233102\ttotal: 376ms\tremaining: 1.02s\n",
      "268:\tlearn: 109.2576068\ttotal: 377ms\tremaining: 1.02s\n",
      "269:\tlearn: 109.1038965\ttotal: 378ms\tremaining: 1.02s\n",
      "270:\tlearn: 108.5183523\ttotal: 379ms\tremaining: 1.02s\n",
      "271:\tlearn: 108.4470954\ttotal: 380ms\tremaining: 1.02s\n",
      "272:\tlearn: 108.0259628\ttotal: 382ms\tremaining: 1.02s\n",
      "273:\tlearn: 107.5793316\ttotal: 384ms\tremaining: 1.02s\n",
      "274:\tlearn: 107.4747562\ttotal: 386ms\tremaining: 1.02s\n",
      "275:\tlearn: 107.4015080\ttotal: 387ms\tremaining: 1.01s\n",
      "276:\tlearn: 106.7954512\ttotal: 389ms\tremaining: 1.02s\n",
      "277:\tlearn: 106.3607188\ttotal: 392ms\tremaining: 1.02s\n",
      "278:\tlearn: 106.2892222\ttotal: 393ms\tremaining: 1.02s\n",
      "279:\tlearn: 106.1701389\ttotal: 395ms\tremaining: 1.01s\n",
      "280:\tlearn: 106.0889424\ttotal: 397ms\tremaining: 1.02s\n",
      "281:\tlearn: 105.8903610\ttotal: 401ms\tremaining: 1.02s\n",
      "282:\tlearn: 105.6531794\ttotal: 403ms\tremaining: 1.02s\n",
      "283:\tlearn: 105.3489666\ttotal: 406ms\tremaining: 1.02s\n",
      "284:\tlearn: 105.2156952\ttotal: 408ms\tremaining: 1.02s\n",
      "285:\tlearn: 104.7489850\ttotal: 412ms\tremaining: 1.03s\n",
      "286:\tlearn: 104.4701409\ttotal: 413ms\tremaining: 1.03s\n",
      "287:\tlearn: 104.3778769\ttotal: 414ms\tremaining: 1.02s\n",
      "288:\tlearn: 103.8224679\ttotal: 416ms\tremaining: 1.02s\n",
      "289:\tlearn: 103.2728523\ttotal: 417ms\tremaining: 1.02s\n",
      "290:\tlearn: 102.7341369\ttotal: 419ms\tremaining: 1.02s\n",
      "291:\tlearn: 102.5732242\ttotal: 420ms\tremaining: 1.02s\n",
      "292:\tlearn: 102.4869595\ttotal: 421ms\tremaining: 1.02s\n",
      "293:\tlearn: 101.9743362\ttotal: 424ms\tremaining: 1.02s\n",
      "294:\tlearn: 101.8782948\ttotal: 425ms\tremaining: 1.01s\n",
      "295:\tlearn: 101.3571512\ttotal: 426ms\tremaining: 1.01s\n",
      "296:\tlearn: 100.8372462\ttotal: 427ms\tremaining: 1.01s\n",
      "297:\tlearn: 100.6707783\ttotal: 428ms\tremaining: 1.01s\n",
      "298:\tlearn: 100.3215940\ttotal: 430ms\tremaining: 1.01s\n",
      "299:\tlearn: 99.8162460\ttotal: 431ms\tremaining: 1s\n",
      "300:\tlearn: 99.7024172\ttotal: 432ms\tremaining: 1s\n",
      "301:\tlearn: 99.2308832\ttotal: 433ms\tremaining: 1s\n",
      "302:\tlearn: 98.7981083\ttotal: 435ms\tremaining: 1s\n",
      "303:\tlearn: 98.6418362\ttotal: 437ms\tremaining: 1s\n",
      "304:\tlearn: 98.1248564\ttotal: 438ms\tremaining: 998ms\n",
      "305:\tlearn: 97.9442581\ttotal: 439ms\tremaining: 996ms\n",
      "306:\tlearn: 97.5091297\ttotal: 440ms\tremaining: 994ms\n",
      "307:\tlearn: 97.0381695\ttotal: 442ms\tremaining: 994ms\n",
      "308:\tlearn: 96.5858904\ttotal: 443ms\tremaining: 991ms\n",
      "309:\tlearn: 96.4466124\ttotal: 445ms\tremaining: 990ms\n",
      "310:\tlearn: 95.9786304\ttotal: 446ms\tremaining: 987ms\n",
      "311:\tlearn: 95.5390501\ttotal: 447ms\tremaining: 985ms\n",
      "312:\tlearn: 95.3241323\ttotal: 449ms\tremaining: 986ms\n",
      "313:\tlearn: 95.1166839\ttotal: 451ms\tremaining: 986ms\n",
      "314:\tlearn: 94.6729021\ttotal: 453ms\tremaining: 984ms\n",
      "315:\tlearn: 94.2571678\ttotal: 454ms\tremaining: 982ms\n",
      "316:\tlearn: 93.9414786\ttotal: 455ms\tremaining: 980ms\n",
      "317:\tlearn: 93.7804159\ttotal: 456ms\tremaining: 979ms\n",
      "318:\tlearn: 93.5413306\ttotal: 458ms\tremaining: 977ms\n",
      "319:\tlearn: 93.4280107\ttotal: 459ms\tremaining: 976ms\n",
      "320:\tlearn: 92.9986302\ttotal: 464ms\tremaining: 981ms\n",
      "321:\tlearn: 92.9421610\ttotal: 465ms\tremaining: 979ms\n",
      "322:\tlearn: 92.4662692\ttotal: 466ms\tremaining: 977ms\n",
      "323:\tlearn: 92.0455485\ttotal: 467ms\tremaining: 975ms\n",
      "324:\tlearn: 91.6664667\ttotal: 469ms\tremaining: 975ms\n",
      "325:\tlearn: 91.5600717\ttotal: 471ms\tremaining: 973ms\n",
      "326:\tlearn: 91.5004974\ttotal: 472ms\tremaining: 971ms\n",
      "327:\tlearn: 91.0716355\ttotal: 473ms\tremaining: 969ms\n",
      "328:\tlearn: 90.6376777\ttotal: 475ms\tremaining: 969ms\n",
      "329:\tlearn: 90.2132341\ttotal: 476ms\tremaining: 966ms\n",
      "330:\tlearn: 90.1525801\ttotal: 477ms\tremaining: 964ms\n",
      "331:\tlearn: 89.7879501\ttotal: 478ms\tremaining: 962ms\n",
      "332:\tlearn: 89.3626218\ttotal: 479ms\tremaining: 960ms\n",
      "333:\tlearn: 89.1274526\ttotal: 481ms\tremaining: 958ms\n",
      "334:\tlearn: 88.7222011\ttotal: 482ms\tremaining: 956ms\n",
      "335:\tlearn: 88.5311901\ttotal: 483ms\tremaining: 954ms\n",
      "336:\tlearn: 88.0699983\ttotal: 484ms\tremaining: 952ms\n",
      "337:\tlearn: 87.6737037\ttotal: 485ms\tremaining: 950ms\n",
      "338:\tlearn: 87.3069085\ttotal: 487ms\tremaining: 950ms\n",
      "339:\tlearn: 86.8639700\ttotal: 489ms\tremaining: 949ms\n",
      "340:\tlearn: 86.7339532\ttotal: 490ms\tremaining: 947ms\n",
      "341:\tlearn: 86.5677333\ttotal: 491ms\tremaining: 944ms\n",
      "342:\tlearn: 86.4361752\ttotal: 492ms\tremaining: 943ms\n",
      "343:\tlearn: 86.2469458\ttotal: 495ms\tremaining: 944ms\n",
      "344:\tlearn: 86.1967306\ttotal: 496ms\tremaining: 942ms\n",
      "345:\tlearn: 86.0709863\ttotal: 498ms\tremaining: 941ms\n",
      "346:\tlearn: 85.6398833\ttotal: 499ms\tremaining: 940ms\n",
      "347:\tlearn: 85.5979263\ttotal: 502ms\tremaining: 941ms\n",
      "348:\tlearn: 85.4437261\ttotal: 504ms\tremaining: 940ms\n",
      "349:\tlearn: 85.0669752\ttotal: 505ms\tremaining: 938ms\n",
      "350:\tlearn: 85.0164116\ttotal: 506ms\tremaining: 936ms\n",
      "351:\tlearn: 84.6350071\ttotal: 508ms\tremaining: 935ms\n",
      "352:\tlearn: 84.1473245\ttotal: 509ms\tremaining: 934ms\n",
      "353:\tlearn: 83.8115391\ttotal: 511ms\tremaining: 933ms\n",
      "354:\tlearn: 83.4823620\ttotal: 513ms\tremaining: 932ms\n",
      "355:\tlearn: 83.1595406\ttotal: 515ms\tremaining: 932ms\n",
      "356:\tlearn: 82.7280745\ttotal: 520ms\tremaining: 936ms\n",
      "357:\tlearn: 82.6210086\ttotal: 521ms\tremaining: 934ms\n",
      "358:\tlearn: 82.3077194\ttotal: 522ms\tremaining: 933ms\n",
      "359:\tlearn: 81.9112073\ttotal: 524ms\tremaining: 932ms\n",
      "360:\tlearn: 81.5518193\ttotal: 526ms\tremaining: 931ms\n",
      "361:\tlearn: 81.4267033\ttotal: 529ms\tremaining: 932ms\n",
      "362:\tlearn: 81.0255982\ttotal: 532ms\tremaining: 933ms\n",
      "363:\tlearn: 80.6891175\ttotal: 533ms\tremaining: 931ms\n",
      "364:\tlearn: 80.4390711\ttotal: 534ms\tremaining: 929ms\n",
      "365:\tlearn: 80.1232319\ttotal: 535ms\tremaining: 927ms\n",
      "366:\tlearn: 80.0808756\ttotal: 536ms\tremaining: 925ms\n",
      "367:\tlearn: 79.7090424\ttotal: 538ms\tremaining: 923ms\n",
      "368:\tlearn: 79.3969152\ttotal: 539ms\tremaining: 923ms\n",
      "369:\tlearn: 79.0731259\ttotal: 541ms\tremaining: 921ms\n",
      "370:\tlearn: 78.9862934\ttotal: 542ms\tremaining: 920ms\n",
      "371:\tlearn: 78.7730476\ttotal: 544ms\tremaining: 918ms\n",
      "372:\tlearn: 78.6302158\ttotal: 545ms\tremaining: 916ms\n",
      "373:\tlearn: 78.5184111\ttotal: 546ms\tremaining: 915ms\n",
      "374:\tlearn: 78.3814955\ttotal: 548ms\tremaining: 913ms\n",
      "375:\tlearn: 77.9622261\ttotal: 549ms\tremaining: 911ms\n",
      "376:\tlearn: 77.8601787\ttotal: 550ms\tremaining: 909ms\n",
      "377:\tlearn: 77.7650898\ttotal: 553ms\tremaining: 910ms\n",
      "378:\tlearn: 77.3945927\ttotal: 554ms\tremaining: 908ms\n",
      "379:\tlearn: 77.3348237\ttotal: 556ms\tremaining: 907ms\n",
      "380:\tlearn: 77.2431856\ttotal: 557ms\tremaining: 904ms\n",
      "381:\tlearn: 76.9192891\ttotal: 558ms\tremaining: 902ms\n",
      "382:\tlearn: 76.7949544\ttotal: 559ms\tremaining: 900ms\n",
      "383:\tlearn: 76.5217530\ttotal: 560ms\tremaining: 898ms\n",
      "384:\tlearn: 76.1648512\ttotal: 561ms\tremaining: 896ms\n",
      "385:\tlearn: 75.9867656\ttotal: 562ms\tremaining: 894ms\n",
      "386:\tlearn: 75.7293435\ttotal: 564ms\tremaining: 893ms\n",
      "387:\tlearn: 75.6419805\ttotal: 566ms\tremaining: 892ms\n",
      "388:\tlearn: 75.3138222\ttotal: 567ms\tremaining: 890ms\n",
      "389:\tlearn: 75.0125736\ttotal: 568ms\tremaining: 888ms\n",
      "390:\tlearn: 74.9803725\ttotal: 569ms\tremaining: 886ms\n",
      "391:\tlearn: 74.6113970\ttotal: 571ms\tremaining: 886ms\n",
      "392:\tlearn: 74.3668766\ttotal: 572ms\tremaining: 884ms\n",
      "393:\tlearn: 74.2752147\ttotal: 574ms\tremaining: 882ms\n",
      "394:\tlearn: 74.2172412\ttotal: 575ms\tremaining: 880ms\n",
      "395:\tlearn: 73.8652110\ttotal: 576ms\tremaining: 879ms\n",
      "396:\tlearn: 73.6963645\ttotal: 579ms\tremaining: 879ms\n",
      "397:\tlearn: 73.4075086\ttotal: 580ms\tremaining: 877ms\n",
      "398:\tlearn: 73.0346771\ttotal: 581ms\tremaining: 876ms\n",
      "399:\tlearn: 72.9971586\ttotal: 583ms\tremaining: 874ms\n",
      "400:\tlearn: 72.6755493\ttotal: 584ms\tremaining: 872ms\n",
      "401:\tlearn: 72.5972282\ttotal: 585ms\tremaining: 871ms\n",
      "402:\tlearn: 72.4345974\ttotal: 587ms\tremaining: 869ms\n",
      "403:\tlearn: 72.2185716\ttotal: 588ms\tremaining: 867ms\n",
      "404:\tlearn: 71.9251032\ttotal: 589ms\tremaining: 865ms\n",
      "405:\tlearn: 71.8901544\ttotal: 590ms\tremaining: 863ms\n",
      "406:\tlearn: 71.5338422\ttotal: 592ms\tremaining: 862ms\n",
      "407:\tlearn: 71.4477827\ttotal: 593ms\tremaining: 860ms\n",
      "408:\tlearn: 71.4127550\ttotal: 594ms\tremaining: 859ms\n",
      "409:\tlearn: 71.3322454\ttotal: 595ms\tremaining: 857ms\n",
      "410:\tlearn: 71.2981804\ttotal: 598ms\tremaining: 856ms\n",
      "411:\tlearn: 71.0089173\ttotal: 599ms\tremaining: 855ms\n",
      "412:\tlearn: 70.7854493\ttotal: 600ms\tremaining: 853ms\n",
      "413:\tlearn: 70.4930103\ttotal: 601ms\tremaining: 851ms\n",
      "414:\tlearn: 70.1976578\ttotal: 603ms\tremaining: 850ms\n",
      "415:\tlearn: 69.9565552\ttotal: 605ms\tremaining: 849ms\n",
      "416:\tlearn: 69.8912103\ttotal: 606ms\tremaining: 847ms\n",
      "417:\tlearn: 69.7356706\ttotal: 607ms\tremaining: 845ms\n",
      "418:\tlearn: 69.6634412\ttotal: 608ms\tremaining: 843ms\n",
      "419:\tlearn: 69.2943609\ttotal: 609ms\tremaining: 842ms\n",
      "420:\tlearn: 69.0269983\ttotal: 611ms\tremaining: 840ms\n",
      "421:\tlearn: 68.8653561\ttotal: 612ms\tremaining: 838ms\n",
      "422:\tlearn: 68.6555281\ttotal: 613ms\tremaining: 836ms\n",
      "423:\tlearn: 68.2338294\ttotal: 614ms\tremaining: 834ms\n",
      "424:\tlearn: 68.0909898\ttotal: 615ms\tremaining: 832ms\n",
      "425:\tlearn: 67.7905722\ttotal: 617ms\tremaining: 831ms\n",
      "426:\tlearn: 67.5586853\ttotal: 618ms\tremaining: 830ms\n",
      "427:\tlearn: 67.3518839\ttotal: 620ms\tremaining: 828ms\n",
      "428:\tlearn: 67.2029794\ttotal: 621ms\tremaining: 826ms\n",
      "429:\tlearn: 66.9467892\ttotal: 622ms\tremaining: 825ms\n",
      "430:\tlearn: 66.7821891\ttotal: 624ms\tremaining: 823ms\n",
      "431:\tlearn: 66.4955741\ttotal: 625ms\tremaining: 822ms\n",
      "432:\tlearn: 66.2240359\ttotal: 627ms\tremaining: 820ms\n",
      "433:\tlearn: 65.9832136\ttotal: 628ms\tremaining: 819ms\n",
      "434:\tlearn: 65.7761577\ttotal: 630ms\tremaining: 818ms\n",
      "435:\tlearn: 65.4845025\ttotal: 631ms\tremaining: 816ms\n",
      "436:\tlearn: 65.4215937\ttotal: 632ms\tremaining: 815ms\n",
      "437:\tlearn: 65.1768197\ttotal: 633ms\tremaining: 813ms\n",
      "438:\tlearn: 65.1071642\ttotal: 635ms\tremaining: 811ms\n",
      "439:\tlearn: 65.0705857\ttotal: 636ms\tremaining: 809ms\n",
      "440:\tlearn: 64.7782864\ttotal: 637ms\tremaining: 807ms\n",
      "441:\tlearn: 64.5284944\ttotal: 638ms\tremaining: 806ms\n",
      "442:\tlearn: 64.3504433\ttotal: 640ms\tremaining: 805ms\n",
      "443:\tlearn: 64.3001112\ttotal: 643ms\tremaining: 805ms\n",
      "444:\tlearn: 63.9063758\ttotal: 644ms\tremaining: 804ms\n",
      "445:\tlearn: 63.8746707\ttotal: 646ms\tremaining: 803ms\n",
      "446:\tlearn: 63.5487944\ttotal: 650ms\tremaining: 804ms\n",
      "447:\tlearn: 63.3406893\ttotal: 651ms\tremaining: 802ms\n",
      "448:\tlearn: 63.0992921\ttotal: 652ms\tremaining: 800ms\n",
      "449:\tlearn: 62.8676535\ttotal: 653ms\tremaining: 798ms\n",
      "450:\tlearn: 62.6978975\ttotal: 655ms\tremaining: 797ms\n",
      "451:\tlearn: 62.4888356\ttotal: 659ms\tremaining: 799ms\n",
      "452:\tlearn: 62.4591033\ttotal: 660ms\tremaining: 797ms\n",
      "453:\tlearn: 62.3981355\ttotal: 662ms\tremaining: 796ms\n",
      "454:\tlearn: 62.2755114\ttotal: 663ms\tremaining: 794ms\n",
      "455:\tlearn: 62.0286915\ttotal: 664ms\tremaining: 792ms\n",
      "456:\tlearn: 61.8101493\ttotal: 666ms\tremaining: 791ms\n",
      "457:\tlearn: 61.7125436\ttotal: 670ms\tremaining: 793ms\n",
      "458:\tlearn: 61.3464743\ttotal: 671ms\tremaining: 791ms\n",
      "459:\tlearn: 61.0777407\ttotal: 673ms\tremaining: 790ms\n",
      "460:\tlearn: 60.7354015\ttotal: 674ms\tremaining: 789ms\n",
      "461:\tlearn: 60.7070785\ttotal: 676ms\tremaining: 787ms\n",
      "462:\tlearn: 60.4380726\ttotal: 677ms\tremaining: 785ms\n",
      "463:\tlearn: 60.3794644\ttotal: 678ms\tremaining: 784ms\n",
      "464:\tlearn: 60.3096146\ttotal: 681ms\tremaining: 783ms\n",
      "465:\tlearn: 60.2803998\ttotal: 682ms\tremaining: 781ms\n",
      "466:\tlearn: 60.2489158\ttotal: 683ms\tremaining: 779ms\n",
      "467:\tlearn: 60.2187601\ttotal: 684ms\tremaining: 777ms\n",
      "468:\tlearn: 59.9901529\ttotal: 685ms\tremaining: 776ms\n",
      "469:\tlearn: 59.7821357\ttotal: 686ms\tremaining: 774ms\n",
      "470:\tlearn: 59.7334527\ttotal: 687ms\tremaining: 772ms\n",
      "471:\tlearn: 59.4989600\ttotal: 688ms\tremaining: 770ms\n",
      "472:\tlearn: 59.1865219\ttotal: 690ms\tremaining: 768ms\n",
      "473:\tlearn: 58.9478658\ttotal: 691ms\tremaining: 766ms\n",
      "474:\tlearn: 58.6836425\ttotal: 692ms\tremaining: 765ms\n",
      "475:\tlearn: 58.6522637\ttotal: 694ms\tremaining: 764ms\n",
      "476:\tlearn: 58.5963542\ttotal: 695ms\tremaining: 762ms\n",
      "477:\tlearn: 58.3648296\ttotal: 696ms\tremaining: 760ms\n",
      "478:\tlearn: 58.3188915\ttotal: 697ms\tremaining: 759ms\n",
      "479:\tlearn: 58.1813689\ttotal: 700ms\tremaining: 758ms\n",
      "480:\tlearn: 57.9437076\ttotal: 701ms\tremaining: 756ms\n",
      "481:\tlearn: 57.7694232\ttotal: 702ms\tremaining: 754ms\n",
      "482:\tlearn: 57.7437082\ttotal: 703ms\tremaining: 753ms\n",
      "483:\tlearn: 57.5081532\ttotal: 704ms\tremaining: 751ms\n",
      "484:\tlearn: 57.2134650\ttotal: 707ms\tremaining: 751ms\n",
      "485:\tlearn: 56.9733344\ttotal: 709ms\tremaining: 749ms\n",
      "486:\tlearn: 56.9412760\ttotal: 711ms\tremaining: 749ms\n",
      "487:\tlearn: 56.8640335\ttotal: 712ms\tremaining: 747ms\n",
      "488:\tlearn: 56.5624625\ttotal: 713ms\tremaining: 745ms\n",
      "489:\tlearn: 56.4986179\ttotal: 714ms\tremaining: 744ms\n",
      "490:\tlearn: 56.3527490\ttotal: 716ms\tremaining: 743ms\n",
      "491:\tlearn: 56.0961642\ttotal: 718ms\tremaining: 742ms\n",
      "492:\tlearn: 55.8256120\ttotal: 720ms\tremaining: 740ms\n",
      "493:\tlearn: 55.6150160\ttotal: 721ms\tremaining: 739ms\n",
      "494:\tlearn: 55.5631279\ttotal: 723ms\tremaining: 737ms\n",
      "495:\tlearn: 55.3736400\ttotal: 725ms\tremaining: 737ms\n",
      "496:\tlearn: 55.3441677\ttotal: 726ms\tremaining: 735ms\n",
      "497:\tlearn: 55.1995384\ttotal: 728ms\tremaining: 734ms\n",
      "498:\tlearn: 54.8980322\ttotal: 729ms\tremaining: 732ms\n",
      "499:\tlearn: 54.7119603\ttotal: 730ms\tremaining: 730ms\n",
      "500:\tlearn: 54.6236591\ttotal: 733ms\tremaining: 730ms\n",
      "501:\tlearn: 54.4131558\ttotal: 734ms\tremaining: 728ms\n",
      "502:\tlearn: 54.3901230\ttotal: 735ms\tremaining: 726ms\n",
      "503:\tlearn: 54.3662021\ttotal: 736ms\tremaining: 725ms\n",
      "504:\tlearn: 54.2068745\ttotal: 738ms\tremaining: 723ms\n",
      "505:\tlearn: 54.1800600\ttotal: 739ms\tremaining: 721ms\n",
      "506:\tlearn: 54.1376632\ttotal: 740ms\tremaining: 720ms\n",
      "507:\tlearn: 53.9788342\ttotal: 741ms\tremaining: 718ms\n",
      "508:\tlearn: 53.9294324\ttotal: 743ms\tremaining: 716ms\n",
      "509:\tlearn: 53.6786369\ttotal: 744ms\tremaining: 715ms\n",
      "510:\tlearn: 53.4578789\ttotal: 746ms\tremaining: 714ms\n",
      "511:\tlearn: 53.3261204\ttotal: 748ms\tremaining: 712ms\n",
      "512:\tlearn: 53.1331329\ttotal: 749ms\tremaining: 711ms\n",
      "513:\tlearn: 52.9261288\ttotal: 750ms\tremaining: 709ms\n",
      "514:\tlearn: 52.7447311\ttotal: 752ms\tremaining: 708ms\n",
      "515:\tlearn: 52.5966869\ttotal: 753ms\tremaining: 706ms\n",
      "516:\tlearn: 52.4130565\ttotal: 754ms\tremaining: 705ms\n",
      "517:\tlearn: 52.1948654\ttotal: 755ms\tremaining: 703ms\n",
      "518:\tlearn: 51.9463802\ttotal: 757ms\tremaining: 701ms\n",
      "519:\tlearn: 51.9178306\ttotal: 758ms\tremaining: 700ms\n",
      "520:\tlearn: 51.7246141\ttotal: 760ms\tremaining: 699ms\n",
      "521:\tlearn: 51.5669648\ttotal: 761ms\tremaining: 697ms\n",
      "522:\tlearn: 51.5221972\ttotal: 762ms\tremaining: 695ms\n",
      "523:\tlearn: 51.3293697\ttotal: 764ms\tremaining: 694ms\n",
      "524:\tlearn: 51.1767477\ttotal: 765ms\tremaining: 692ms\n",
      "525:\tlearn: 51.0961343\ttotal: 766ms\tremaining: 690ms\n",
      "526:\tlearn: 50.9995340\ttotal: 767ms\tremaining: 689ms\n",
      "527:\tlearn: 50.8846082\ttotal: 769ms\tremaining: 687ms\n",
      "528:\tlearn: 50.7478794\ttotal: 770ms\tremaining: 685ms\n",
      "529:\tlearn: 50.5116322\ttotal: 771ms\tremaining: 684ms\n",
      "530:\tlearn: 50.2760468\ttotal: 773ms\tremaining: 683ms\n",
      "531:\tlearn: 50.1040144\ttotal: 775ms\tremaining: 681ms\n",
      "532:\tlearn: 49.8827812\ttotal: 776ms\tremaining: 680ms\n",
      "533:\tlearn: 49.8255711\ttotal: 777ms\tremaining: 678ms\n",
      "534:\tlearn: 49.7890438\ttotal: 779ms\tremaining: 677ms\n",
      "535:\tlearn: 49.6290340\ttotal: 781ms\tremaining: 676ms\n",
      "536:\tlearn: 49.3965889\ttotal: 782ms\tremaining: 674ms\n",
      "537:\tlearn: 49.1641285\ttotal: 783ms\tremaining: 673ms\n",
      "538:\tlearn: 48.9654180\ttotal: 786ms\tremaining: 672ms\n",
      "539:\tlearn: 48.9278341\ttotal: 788ms\tremaining: 671ms\n",
      "540:\tlearn: 48.8457405\ttotal: 789ms\tremaining: 670ms\n",
      "541:\tlearn: 48.8041804\ttotal: 791ms\tremaining: 668ms\n",
      "542:\tlearn: 48.7179291\ttotal: 792ms\tremaining: 666ms\n",
      "543:\tlearn: 48.6759771\ttotal: 793ms\tremaining: 665ms\n",
      "544:\tlearn: 48.4792967\ttotal: 794ms\tremaining: 663ms\n",
      "545:\tlearn: 48.3843114\ttotal: 796ms\tremaining: 662ms\n",
      "546:\tlearn: 48.2453957\ttotal: 797ms\tremaining: 660ms\n",
      "547:\tlearn: 48.0231685\ttotal: 801ms\tremaining: 661ms\n",
      "548:\tlearn: 47.8612203\ttotal: 802ms\tremaining: 659ms\n",
      "549:\tlearn: 47.7590091\ttotal: 804ms\tremaining: 657ms\n",
      "550:\tlearn: 47.6561968\ttotal: 805ms\tremaining: 656ms\n",
      "551:\tlearn: 47.4106594\ttotal: 806ms\tremaining: 654ms\n",
      "552:\tlearn: 47.2194456\ttotal: 808ms\tremaining: 653ms\n",
      "553:\tlearn: 47.0783850\ttotal: 809ms\tremaining: 651ms\n",
      "554:\tlearn: 46.8215038\ttotal: 810ms\tremaining: 649ms\n",
      "555:\tlearn: 46.6674572\ttotal: 812ms\tremaining: 648ms\n",
      "556:\tlearn: 46.6418726\ttotal: 814ms\tremaining: 647ms\n",
      "557:\tlearn: 46.5248666\ttotal: 815ms\tremaining: 646ms\n",
      "558:\tlearn: 46.5061320\ttotal: 816ms\tremaining: 644ms\n",
      "559:\tlearn: 46.4397708\ttotal: 817ms\tremaining: 642ms\n",
      "560:\tlearn: 46.3904442\ttotal: 818ms\tremaining: 640ms\n",
      "561:\tlearn: 46.2576989\ttotal: 819ms\tremaining: 639ms\n",
      "562:\tlearn: 45.9568721\ttotal: 821ms\tremaining: 637ms\n",
      "563:\tlearn: 45.8482033\ttotal: 822ms\tremaining: 635ms\n",
      "564:\tlearn: 45.6689466\ttotal: 823ms\tremaining: 634ms\n",
      "565:\tlearn: 45.4222796\ttotal: 825ms\tremaining: 633ms\n",
      "566:\tlearn: 45.2404146\ttotal: 826ms\tremaining: 631ms\n",
      "567:\tlearn: 45.0903054\ttotal: 828ms\tremaining: 630ms\n",
      "568:\tlearn: 44.7991969\ttotal: 829ms\tremaining: 628ms\n",
      "569:\tlearn: 44.6413756\ttotal: 831ms\tremaining: 627ms\n",
      "570:\tlearn: 44.5799550\ttotal: 832ms\tremaining: 625ms\n",
      "571:\tlearn: 44.5651506\ttotal: 833ms\tremaining: 623ms\n",
      "572:\tlearn: 44.4233165\ttotal: 834ms\tremaining: 622ms\n",
      "573:\tlearn: 44.2369747\ttotal: 835ms\tremaining: 620ms\n",
      "574:\tlearn: 44.0545664\ttotal: 837ms\tremaining: 619ms\n",
      "575:\tlearn: 43.9004385\ttotal: 839ms\tremaining: 617ms\n",
      "576:\tlearn: 43.7138119\ttotal: 840ms\tremaining: 616ms\n",
      "577:\tlearn: 43.5755556\ttotal: 841ms\tremaining: 614ms\n",
      "578:\tlearn: 43.4934072\ttotal: 842ms\tremaining: 612ms\n",
      "579:\tlearn: 43.4629843\ttotal: 843ms\tremaining: 611ms\n",
      "580:\tlearn: 43.3825129\ttotal: 844ms\tremaining: 609ms\n",
      "581:\tlearn: 43.2549166\ttotal: 846ms\tremaining: 607ms\n",
      "582:\tlearn: 43.1514800\ttotal: 847ms\tremaining: 606ms\n",
      "583:\tlearn: 42.9846414\ttotal: 848ms\tremaining: 604ms\n",
      "584:\tlearn: 42.8538804\ttotal: 849ms\tremaining: 602ms\n",
      "585:\tlearn: 42.7710806\ttotal: 851ms\tremaining: 601ms\n",
      "586:\tlearn: 42.5351412\ttotal: 852ms\tremaining: 600ms\n",
      "587:\tlearn: 42.4784055\ttotal: 853ms\tremaining: 598ms\n",
      "588:\tlearn: 42.3174788\ttotal: 854ms\tremaining: 596ms\n",
      "589:\tlearn: 42.1761529\ttotal: 856ms\tremaining: 595ms\n",
      "590:\tlearn: 42.0486059\ttotal: 857ms\tremaining: 593ms\n",
      "591:\tlearn: 41.8689529\ttotal: 858ms\tremaining: 592ms\n",
      "592:\tlearn: 41.8306286\ttotal: 859ms\tremaining: 590ms\n",
      "593:\tlearn: 41.6966124\ttotal: 861ms\tremaining: 588ms\n",
      "594:\tlearn: 41.6647082\ttotal: 862ms\tremaining: 587ms\n",
      "595:\tlearn: 41.5609917\ttotal: 863ms\tremaining: 585ms\n",
      "596:\tlearn: 41.4632566\ttotal: 865ms\tremaining: 584ms\n",
      "597:\tlearn: 41.3899602\ttotal: 866ms\tremaining: 582ms\n",
      "598:\tlearn: 41.2152047\ttotal: 867ms\tremaining: 581ms\n",
      "599:\tlearn: 41.0959753\ttotal: 868ms\tremaining: 579ms\n",
      "600:\tlearn: 40.9815009\ttotal: 869ms\tremaining: 577ms\n",
      "601:\tlearn: 40.8912971\ttotal: 870ms\tremaining: 575ms\n",
      "602:\tlearn: 40.7881395\ttotal: 872ms\tremaining: 574ms\n",
      "603:\tlearn: 40.6325570\ttotal: 873ms\tremaining: 573ms\n",
      "604:\tlearn: 40.4083902\ttotal: 874ms\tremaining: 571ms\n",
      "605:\tlearn: 40.3292737\ttotal: 876ms\tremaining: 569ms\n",
      "606:\tlearn: 40.2629492\ttotal: 878ms\tremaining: 568ms\n",
      "607:\tlearn: 40.2448471\ttotal: 879ms\tremaining: 567ms\n",
      "608:\tlearn: 40.2293673\ttotal: 880ms\tremaining: 565ms\n",
      "609:\tlearn: 40.0978829\ttotal: 881ms\tremaining: 563ms\n",
      "610:\tlearn: 40.0512268\ttotal: 882ms\tremaining: 562ms\n",
      "611:\tlearn: 39.8920221\ttotal: 884ms\tremaining: 560ms\n",
      "612:\tlearn: 39.8591122\ttotal: 885ms\tremaining: 559ms\n",
      "613:\tlearn: 39.7261911\ttotal: 886ms\tremaining: 557ms\n",
      "614:\tlearn: 39.6986628\ttotal: 887ms\tremaining: 556ms\n",
      "615:\tlearn: 39.5659851\ttotal: 889ms\tremaining: 554ms\n",
      "616:\tlearn: 39.4815274\ttotal: 890ms\tremaining: 552ms\n",
      "617:\tlearn: 39.3682607\ttotal: 892ms\tremaining: 551ms\n",
      "618:\tlearn: 39.2643803\ttotal: 893ms\tremaining: 550ms\n",
      "619:\tlearn: 39.1307437\ttotal: 894ms\tremaining: 548ms\n",
      "620:\tlearn: 38.9596117\ttotal: 895ms\tremaining: 546ms\n",
      "621:\tlearn: 38.8456302\ttotal: 896ms\tremaining: 545ms\n",
      "622:\tlearn: 38.7810676\ttotal: 897ms\tremaining: 543ms\n",
      "623:\tlearn: 38.7450983\ttotal: 898ms\tremaining: 541ms\n",
      "624:\tlearn: 38.6788090\ttotal: 900ms\tremaining: 540ms\n",
      "625:\tlearn: 38.5788475\ttotal: 901ms\tremaining: 538ms\n",
      "626:\tlearn: 38.4675366\ttotal: 902ms\tremaining: 537ms\n",
      "627:\tlearn: 38.2350724\ttotal: 904ms\tremaining: 535ms\n",
      "628:\tlearn: 38.2074221\ttotal: 905ms\tremaining: 534ms\n",
      "629:\tlearn: 38.0622880\ttotal: 907ms\tremaining: 533ms\n",
      "630:\tlearn: 37.8520281\ttotal: 908ms\tremaining: 531ms\n",
      "631:\tlearn: 37.6631204\ttotal: 909ms\tremaining: 530ms\n",
      "632:\tlearn: 37.5153877\ttotal: 911ms\tremaining: 528ms\n",
      "633:\tlearn: 37.3834892\ttotal: 912ms\tremaining: 527ms\n",
      "634:\tlearn: 37.2552166\ttotal: 914ms\tremaining: 525ms\n",
      "635:\tlearn: 37.0779047\ttotal: 915ms\tremaining: 524ms\n",
      "636:\tlearn: 37.0329263\ttotal: 917ms\tremaining: 523ms\n",
      "637:\tlearn: 36.8927982\ttotal: 918ms\tremaining: 521ms\n",
      "638:\tlearn: 36.8105498\ttotal: 920ms\tremaining: 520ms\n",
      "639:\tlearn: 36.7512624\ttotal: 921ms\tremaining: 518ms\n",
      "640:\tlearn: 36.5891302\ttotal: 922ms\tremaining: 516ms\n",
      "641:\tlearn: 36.4551656\ttotal: 923ms\tremaining: 515ms\n",
      "642:\tlearn: 36.4318588\ttotal: 925ms\tremaining: 513ms\n",
      "643:\tlearn: 36.4074785\ttotal: 927ms\tremaining: 512ms\n",
      "644:\tlearn: 36.2579510\ttotal: 931ms\tremaining: 512ms\n",
      "645:\tlearn: 36.1413504\ttotal: 933ms\tremaining: 511ms\n",
      "646:\tlearn: 36.0078406\ttotal: 935ms\tremaining: 510ms\n",
      "647:\tlearn: 35.8909828\ttotal: 937ms\tremaining: 509ms\n",
      "648:\tlearn: 35.7426906\ttotal: 939ms\tremaining: 508ms\n",
      "649:\tlearn: 35.5963108\ttotal: 941ms\tremaining: 507ms\n",
      "650:\tlearn: 35.4623805\ttotal: 944ms\tremaining: 506ms\n",
      "651:\tlearn: 35.4428004\ttotal: 945ms\tremaining: 505ms\n",
      "652:\tlearn: 35.3007158\ttotal: 947ms\tremaining: 503ms\n",
      "653:\tlearn: 35.1510309\ttotal: 948ms\tremaining: 502ms\n",
      "654:\tlearn: 35.1258328\ttotal: 949ms\tremaining: 500ms\n",
      "655:\tlearn: 35.0183795\ttotal: 951ms\tremaining: 499ms\n",
      "656:\tlearn: 34.9003271\ttotal: 952ms\tremaining: 497ms\n",
      "657:\tlearn: 34.7887445\ttotal: 953ms\tremaining: 495ms\n",
      "658:\tlearn: 34.6253676\ttotal: 954ms\tremaining: 494ms\n",
      "659:\tlearn: 34.5506116\ttotal: 957ms\tremaining: 493ms\n",
      "660:\tlearn: 34.4197699\ttotal: 959ms\tremaining: 492ms\n",
      "661:\tlearn: 34.3097495\ttotal: 960ms\tremaining: 490ms\n",
      "662:\tlearn: 34.1572027\ttotal: 961ms\tremaining: 488ms\n",
      "663:\tlearn: 34.1441284\ttotal: 963ms\tremaining: 487ms\n",
      "664:\tlearn: 34.0600732\ttotal: 964ms\tremaining: 486ms\n",
      "665:\tlearn: 34.0500587\ttotal: 965ms\tremaining: 484ms\n",
      "666:\tlearn: 33.9193340\ttotal: 966ms\tremaining: 482ms\n",
      "667:\tlearn: 33.7564013\ttotal: 968ms\tremaining: 481ms\n",
      "668:\tlearn: 33.6528749\ttotal: 970ms\tremaining: 480ms\n",
      "669:\tlearn: 33.5681199\ttotal: 971ms\tremaining: 478ms\n",
      "670:\tlearn: 33.4451433\ttotal: 973ms\tremaining: 477ms\n",
      "671:\tlearn: 33.3468901\ttotal: 974ms\tremaining: 475ms\n",
      "672:\tlearn: 33.2486282\ttotal: 975ms\tremaining: 474ms\n",
      "673:\tlearn: 33.2302888\ttotal: 976ms\tremaining: 472ms\n",
      "674:\tlearn: 33.0558859\ttotal: 977ms\tremaining: 470ms\n",
      "675:\tlearn: 32.9700344\ttotal: 978ms\tremaining: 469ms\n",
      "676:\tlearn: 32.8501642\ttotal: 979ms\tremaining: 467ms\n",
      "677:\tlearn: 32.7340426\ttotal: 981ms\tremaining: 466ms\n",
      "678:\tlearn: 32.7121017\ttotal: 982ms\tremaining: 464ms\n",
      "679:\tlearn: 32.6200569\ttotal: 983ms\tremaining: 463ms\n",
      "680:\tlearn: 32.5052371\ttotal: 985ms\tremaining: 461ms\n",
      "681:\tlearn: 32.3916969\ttotal: 986ms\tremaining: 460ms\n",
      "682:\tlearn: 32.2925704\ttotal: 987ms\tremaining: 458ms\n",
      "683:\tlearn: 32.1901836\ttotal: 988ms\tremaining: 457ms\n",
      "684:\tlearn: 32.1810795\ttotal: 990ms\tremaining: 455ms\n",
      "685:\tlearn: 32.0538798\ttotal: 991ms\tremaining: 453ms\n",
      "686:\tlearn: 31.9695880\ttotal: 992ms\tremaining: 452ms\n",
      "687:\tlearn: 31.8186240\ttotal: 994ms\tremaining: 451ms\n",
      "688:\tlearn: 31.7717776\ttotal: 995ms\tremaining: 449ms\n",
      "689:\tlearn: 31.6271069\ttotal: 997ms\tremaining: 448ms\n",
      "690:\tlearn: 31.4257754\ttotal: 998ms\tremaining: 446ms\n",
      "691:\tlearn: 31.3158018\ttotal: 999ms\tremaining: 445ms\n",
      "692:\tlearn: 31.2062456\ttotal: 1000ms\tremaining: 443ms\n",
      "693:\tlearn: 31.1002943\ttotal: 1s\tremaining: 441ms\n",
      "694:\tlearn: 31.0204694\ttotal: 1s\tremaining: 440ms\n",
      "695:\tlearn: 30.8638326\ttotal: 1s\tremaining: 438ms\n",
      "696:\tlearn: 30.8558418\ttotal: 1s\tremaining: 437ms\n",
      "697:\tlearn: 30.7168233\ttotal: 1.01s\tremaining: 435ms\n",
      "698:\tlearn: 30.6741149\ttotal: 1.01s\tremaining: 434ms\n",
      "699:\tlearn: 30.5633505\ttotal: 1.01s\tremaining: 432ms\n",
      "700:\tlearn: 30.3980151\ttotal: 1.01s\tremaining: 431ms\n",
      "701:\tlearn: 30.3868882\ttotal: 1.01s\tremaining: 429ms\n",
      "702:\tlearn: 30.3095110\ttotal: 1.01s\tremaining: 428ms\n",
      "703:\tlearn: 30.2001626\ttotal: 1.01s\tremaining: 426ms\n",
      "704:\tlearn: 30.1086639\ttotal: 1.01s\tremaining: 425ms\n",
      "705:\tlearn: 30.0062050\ttotal: 1.02s\tremaining: 423ms\n",
      "706:\tlearn: 29.9366332\ttotal: 1.02s\tremaining: 422ms\n",
      "707:\tlearn: 29.8514157\ttotal: 1.02s\tremaining: 421ms\n",
      "708:\tlearn: 29.8410197\ttotal: 1.02s\tremaining: 419ms\n",
      "709:\tlearn: 29.7691296\ttotal: 1.02s\tremaining: 418ms\n",
      "710:\tlearn: 29.6347315\ttotal: 1.02s\tremaining: 416ms\n",
      "711:\tlearn: 29.5690771\ttotal: 1.02s\tremaining: 415ms\n",
      "712:\tlearn: 29.4717613\ttotal: 1.03s\tremaining: 413ms\n",
      "713:\tlearn: 29.3453955\ttotal: 1.03s\tremaining: 412ms\n",
      "714:\tlearn: 29.3183996\ttotal: 1.03s\tremaining: 410ms\n",
      "715:\tlearn: 29.2357029\ttotal: 1.03s\tremaining: 408ms\n",
      "716:\tlearn: 29.1493484\ttotal: 1.03s\tremaining: 407ms\n",
      "717:\tlearn: 29.1412750\ttotal: 1.03s\tremaining: 405ms\n",
      "718:\tlearn: 29.0633640\ttotal: 1.03s\tremaining: 404ms\n",
      "719:\tlearn: 29.0063752\ttotal: 1.03s\tremaining: 403ms\n",
      "720:\tlearn: 28.8895697\ttotal: 1.04s\tremaining: 401ms\n",
      "721:\tlearn: 28.8127439\ttotal: 1.04s\tremaining: 399ms\n",
      "722:\tlearn: 28.7979935\ttotal: 1.04s\tremaining: 398ms\n",
      "723:\tlearn: 28.7730564\ttotal: 1.04s\tremaining: 397ms\n",
      "724:\tlearn: 28.6841951\ttotal: 1.04s\tremaining: 395ms\n",
      "725:\tlearn: 28.6192690\ttotal: 1.04s\tremaining: 394ms\n",
      "726:\tlearn: 28.5382100\ttotal: 1.04s\tremaining: 392ms\n",
      "727:\tlearn: 28.4124604\ttotal: 1.04s\tremaining: 390ms\n",
      "728:\tlearn: 28.3992354\ttotal: 1.05s\tremaining: 389ms\n",
      "729:\tlearn: 28.2458739\ttotal: 1.05s\tremaining: 388ms\n",
      "730:\tlearn: 28.1698858\ttotal: 1.05s\tremaining: 386ms\n",
      "731:\tlearn: 28.0857240\ttotal: 1.05s\tremaining: 385ms\n",
      "732:\tlearn: 28.0631865\ttotal: 1.05s\tremaining: 383ms\n",
      "733:\tlearn: 27.9617138\ttotal: 1.05s\tremaining: 382ms\n",
      "734:\tlearn: 27.9296040\ttotal: 1.05s\tremaining: 380ms\n",
      "735:\tlearn: 27.8714544\ttotal: 1.06s\tremaining: 379ms\n",
      "736:\tlearn: 27.8468105\ttotal: 1.06s\tremaining: 377ms\n",
      "737:\tlearn: 27.7605180\ttotal: 1.06s\tremaining: 376ms\n",
      "738:\tlearn: 27.6731250\ttotal: 1.06s\tremaining: 374ms\n",
      "739:\tlearn: 27.6662586\ttotal: 1.06s\tremaining: 373ms\n",
      "740:\tlearn: 27.6319100\ttotal: 1.06s\tremaining: 371ms\n",
      "741:\tlearn: 27.5465757\ttotal: 1.06s\tremaining: 370ms\n",
      "742:\tlearn: 27.4710735\ttotal: 1.07s\tremaining: 369ms\n",
      "743:\tlearn: 27.4510659\ttotal: 1.07s\tremaining: 367ms\n",
      "744:\tlearn: 27.3748617\ttotal: 1.07s\tremaining: 366ms\n",
      "745:\tlearn: 27.3633452\ttotal: 1.07s\tremaining: 365ms\n",
      "746:\tlearn: 27.2959571\ttotal: 1.07s\tremaining: 363ms\n",
      "747:\tlearn: 27.1315947\ttotal: 1.08s\tremaining: 363ms\n",
      "748:\tlearn: 27.0550248\ttotal: 1.08s\tremaining: 361ms\n",
      "749:\tlearn: 27.0373435\ttotal: 1.08s\tremaining: 360ms\n",
      "750:\tlearn: 26.9726665\ttotal: 1.08s\tremaining: 358ms\n",
      "751:\tlearn: 26.9145554\ttotal: 1.08s\tremaining: 357ms\n",
      "752:\tlearn: 26.8976495\ttotal: 1.08s\tremaining: 355ms\n",
      "753:\tlearn: 26.8013163\ttotal: 1.08s\tremaining: 354ms\n",
      "754:\tlearn: 26.7203712\ttotal: 1.08s\tremaining: 352ms\n",
      "755:\tlearn: 26.5829005\ttotal: 1.09s\tremaining: 352ms\n",
      "756:\tlearn: 26.4324310\ttotal: 1.09s\tremaining: 350ms\n",
      "757:\tlearn: 26.2890218\ttotal: 1.09s\tremaining: 349ms\n",
      "758:\tlearn: 26.1965245\ttotal: 1.09s\tremaining: 348ms\n",
      "759:\tlearn: 26.1810870\ttotal: 1.09s\tremaining: 346ms\n",
      "760:\tlearn: 26.1187072\ttotal: 1.1s\tremaining: 345ms\n",
      "761:\tlearn: 26.0637705\ttotal: 1.1s\tremaining: 343ms\n",
      "762:\tlearn: 25.9562461\ttotal: 1.1s\tremaining: 342ms\n",
      "763:\tlearn: 25.8386943\ttotal: 1.1s\tremaining: 340ms\n",
      "764:\tlearn: 25.7790725\ttotal: 1.1s\tremaining: 339ms\n",
      "765:\tlearn: 25.6701106\ttotal: 1.1s\tremaining: 337ms\n",
      "766:\tlearn: 25.6362119\ttotal: 1.1s\tremaining: 336ms\n",
      "767:\tlearn: 25.6252040\ttotal: 1.11s\tremaining: 334ms\n",
      "768:\tlearn: 25.5249470\ttotal: 1.11s\tremaining: 333ms\n",
      "769:\tlearn: 25.4610308\ttotal: 1.11s\tremaining: 332ms\n",
      "770:\tlearn: 25.3338917\ttotal: 1.11s\tremaining: 330ms\n",
      "771:\tlearn: 25.2081591\ttotal: 1.11s\tremaining: 329ms\n",
      "772:\tlearn: 25.1976317\ttotal: 1.11s\tremaining: 327ms\n",
      "773:\tlearn: 25.1309682\ttotal: 1.12s\tremaining: 326ms\n",
      "774:\tlearn: 25.0198547\ttotal: 1.12s\tremaining: 325ms\n",
      "775:\tlearn: 24.9490229\ttotal: 1.12s\tremaining: 323ms\n",
      "776:\tlearn: 24.9028200\ttotal: 1.12s\tremaining: 322ms\n",
      "777:\tlearn: 24.8337886\ttotal: 1.12s\tremaining: 320ms\n",
      "778:\tlearn: 24.7433955\ttotal: 1.12s\tremaining: 319ms\n",
      "779:\tlearn: 24.6167855\ttotal: 1.12s\tremaining: 317ms\n",
      "780:\tlearn: 24.5516424\ttotal: 1.13s\tremaining: 316ms\n",
      "781:\tlearn: 24.3925316\ttotal: 1.13s\tremaining: 315ms\n",
      "782:\tlearn: 24.3473598\ttotal: 1.13s\tremaining: 313ms\n",
      "783:\tlearn: 24.2382596\ttotal: 1.13s\tremaining: 312ms\n",
      "784:\tlearn: 24.1741117\ttotal: 1.13s\tremaining: 310ms\n",
      "785:\tlearn: 24.1282632\ttotal: 1.13s\tremaining: 308ms\n",
      "786:\tlearn: 24.1150038\ttotal: 1.13s\tremaining: 307ms\n",
      "787:\tlearn: 24.0552315\ttotal: 1.14s\tremaining: 305ms\n",
      "788:\tlearn: 24.0020307\ttotal: 1.14s\tremaining: 304ms\n",
      "789:\tlearn: 23.9582172\ttotal: 1.14s\tremaining: 302ms\n",
      "790:\tlearn: 23.9466945\ttotal: 1.14s\tremaining: 301ms\n",
      "791:\tlearn: 23.9012494\ttotal: 1.14s\tremaining: 300ms\n",
      "792:\tlearn: 23.8902062\ttotal: 1.14s\tremaining: 298ms\n",
      "793:\tlearn: 23.8375677\ttotal: 1.14s\tremaining: 297ms\n",
      "794:\tlearn: 23.8275049\ttotal: 1.14s\tremaining: 295ms\n",
      "795:\tlearn: 23.7639978\ttotal: 1.15s\tremaining: 294ms\n",
      "796:\tlearn: 23.7210385\ttotal: 1.15s\tremaining: 292ms\n",
      "797:\tlearn: 23.7118867\ttotal: 1.15s\tremaining: 291ms\n",
      "798:\tlearn: 23.6210770\ttotal: 1.15s\tremaining: 289ms\n",
      "799:\tlearn: 23.5667973\ttotal: 1.15s\tremaining: 288ms\n",
      "800:\tlearn: 23.5093551\ttotal: 1.15s\tremaining: 286ms\n",
      "801:\tlearn: 23.4248240\ttotal: 1.15s\tremaining: 285ms\n",
      "802:\tlearn: 23.3851975\ttotal: 1.16s\tremaining: 283ms\n",
      "803:\tlearn: 23.2576151\ttotal: 1.16s\tremaining: 282ms\n",
      "804:\tlearn: 23.1403284\ttotal: 1.16s\tremaining: 280ms\n",
      "805:\tlearn: 23.0861220\ttotal: 1.16s\tremaining: 279ms\n",
      "806:\tlearn: 23.0179965\ttotal: 1.16s\tremaining: 277ms\n",
      "807:\tlearn: 22.9499510\ttotal: 1.16s\tremaining: 276ms\n",
      "808:\tlearn: 22.9093322\ttotal: 1.16s\tremaining: 274ms\n",
      "809:\tlearn: 22.8749288\ttotal: 1.16s\tremaining: 273ms\n",
      "810:\tlearn: 22.8082947\ttotal: 1.16s\tremaining: 271ms\n",
      "811:\tlearn: 22.7734708\ttotal: 1.17s\tremaining: 270ms\n",
      "812:\tlearn: 22.6526692\ttotal: 1.17s\tremaining: 269ms\n",
      "813:\tlearn: 22.5530242\ttotal: 1.17s\tremaining: 267ms\n",
      "814:\tlearn: 22.4717488\ttotal: 1.17s\tremaining: 266ms\n",
      "815:\tlearn: 22.4620780\ttotal: 1.17s\tremaining: 264ms\n",
      "816:\tlearn: 22.4023061\ttotal: 1.17s\tremaining: 263ms\n",
      "817:\tlearn: 22.3578971\ttotal: 1.17s\tremaining: 261ms\n",
      "818:\tlearn: 22.3087689\ttotal: 1.18s\tremaining: 260ms\n",
      "819:\tlearn: 22.3046658\ttotal: 1.18s\tremaining: 258ms\n",
      "820:\tlearn: 22.2330663\ttotal: 1.18s\tremaining: 257ms\n",
      "821:\tlearn: 22.1591095\ttotal: 1.18s\tremaining: 255ms\n",
      "822:\tlearn: 22.1550239\ttotal: 1.18s\tremaining: 254ms\n",
      "823:\tlearn: 22.1463899\ttotal: 1.18s\tremaining: 252ms\n",
      "824:\tlearn: 22.1315815\ttotal: 1.18s\tremaining: 251ms\n",
      "825:\tlearn: 22.0652590\ttotal: 1.18s\tremaining: 249ms\n",
      "826:\tlearn: 22.0221121\ttotal: 1.19s\tremaining: 248ms\n",
      "827:\tlearn: 21.9774501\ttotal: 1.19s\tremaining: 247ms\n",
      "828:\tlearn: 21.9395292\ttotal: 1.19s\tremaining: 246ms\n",
      "829:\tlearn: 21.8508549\ttotal: 1.19s\tremaining: 245ms\n",
      "830:\tlearn: 21.8190935\ttotal: 1.2s\tremaining: 243ms\n",
      "831:\tlearn: 21.8109670\ttotal: 1.2s\tremaining: 242ms\n",
      "832:\tlearn: 21.7578310\ttotal: 1.2s\tremaining: 240ms\n",
      "833:\tlearn: 21.6862934\ttotal: 1.2s\tremaining: 239ms\n",
      "834:\tlearn: 21.6036840\ttotal: 1.2s\tremaining: 238ms\n",
      "835:\tlearn: 21.5099448\ttotal: 1.2s\tremaining: 236ms\n",
      "836:\tlearn: 21.4677400\ttotal: 1.21s\tremaining: 235ms\n",
      "837:\tlearn: 21.4091690\ttotal: 1.21s\tremaining: 233ms\n",
      "838:\tlearn: 21.3466938\ttotal: 1.21s\tremaining: 232ms\n",
      "839:\tlearn: 21.2298144\ttotal: 1.21s\tremaining: 231ms\n",
      "840:\tlearn: 21.1270373\ttotal: 1.21s\tremaining: 229ms\n",
      "841:\tlearn: 21.0373314\ttotal: 1.21s\tremaining: 228ms\n",
      "842:\tlearn: 20.9835159\ttotal: 1.22s\tremaining: 226ms\n",
      "843:\tlearn: 20.8484600\ttotal: 1.22s\tremaining: 225ms\n",
      "844:\tlearn: 20.7891557\ttotal: 1.22s\tremaining: 224ms\n",
      "845:\tlearn: 20.7291399\ttotal: 1.22s\tremaining: 223ms\n",
      "846:\tlearn: 20.6849494\ttotal: 1.22s\tremaining: 221ms\n",
      "847:\tlearn: 20.6154963\ttotal: 1.22s\tremaining: 220ms\n",
      "848:\tlearn: 20.5405276\ttotal: 1.23s\tremaining: 218ms\n",
      "849:\tlearn: 20.5016669\ttotal: 1.23s\tremaining: 217ms\n",
      "850:\tlearn: 20.4700003\ttotal: 1.23s\tremaining: 215ms\n",
      "851:\tlearn: 20.4163286\ttotal: 1.23s\tremaining: 214ms\n",
      "852:\tlearn: 20.3832418\ttotal: 1.23s\tremaining: 212ms\n",
      "853:\tlearn: 20.3012184\ttotal: 1.23s\tremaining: 211ms\n",
      "854:\tlearn: 20.2920333\ttotal: 1.24s\tremaining: 209ms\n",
      "855:\tlearn: 20.2053869\ttotal: 1.24s\tremaining: 208ms\n",
      "856:\tlearn: 20.1658977\ttotal: 1.24s\tremaining: 206ms\n",
      "857:\tlearn: 20.1100216\ttotal: 1.24s\tremaining: 205ms\n",
      "858:\tlearn: 20.0083729\ttotal: 1.24s\tremaining: 204ms\n",
      "859:\tlearn: 19.9455311\ttotal: 1.24s\tremaining: 202ms\n",
      "860:\tlearn: 19.8796059\ttotal: 1.24s\tremaining: 201ms\n",
      "861:\tlearn: 19.8565398\ttotal: 1.24s\tremaining: 199ms\n",
      "862:\tlearn: 19.7320152\ttotal: 1.25s\tremaining: 198ms\n",
      "863:\tlearn: 19.6553629\ttotal: 1.25s\tremaining: 196ms\n",
      "864:\tlearn: 19.5653904\ttotal: 1.25s\tremaining: 195ms\n",
      "865:\tlearn: 19.5044019\ttotal: 1.25s\tremaining: 193ms\n",
      "866:\tlearn: 19.4952821\ttotal: 1.25s\tremaining: 192ms\n",
      "867:\tlearn: 19.4417196\ttotal: 1.25s\tremaining: 190ms\n",
      "868:\tlearn: 19.3928280\ttotal: 1.25s\tremaining: 189ms\n",
      "869:\tlearn: 19.3310543\ttotal: 1.25s\tremaining: 187ms\n",
      "870:\tlearn: 19.2860856\ttotal: 1.25s\tremaining: 186ms\n",
      "871:\tlearn: 19.1689820\ttotal: 1.26s\tremaining: 185ms\n",
      "872:\tlearn: 19.0656586\ttotal: 1.26s\tremaining: 183ms\n",
      "873:\tlearn: 19.0585347\ttotal: 1.26s\tremaining: 182ms\n",
      "874:\tlearn: 19.0124418\ttotal: 1.26s\tremaining: 180ms\n",
      "875:\tlearn: 18.9798186\ttotal: 1.26s\tremaining: 179ms\n",
      "876:\tlearn: 18.8896499\ttotal: 1.26s\tremaining: 177ms\n",
      "877:\tlearn: 18.8379639\ttotal: 1.26s\tremaining: 176ms\n",
      "878:\tlearn: 18.8312106\ttotal: 1.26s\tremaining: 174ms\n",
      "879:\tlearn: 18.7718969\ttotal: 1.27s\tremaining: 173ms\n",
      "880:\tlearn: 18.7453473\ttotal: 1.27s\tremaining: 171ms\n",
      "881:\tlearn: 18.6851317\ttotal: 1.27s\tremaining: 170ms\n",
      "882:\tlearn: 18.5988650\ttotal: 1.27s\tremaining: 169ms\n",
      "883:\tlearn: 18.5525116\ttotal: 1.27s\tremaining: 167ms\n",
      "884:\tlearn: 18.4964362\ttotal: 1.27s\tremaining: 166ms\n",
      "885:\tlearn: 18.4542378\ttotal: 1.27s\tremaining: 164ms\n",
      "886:\tlearn: 18.4053368\ttotal: 1.28s\tremaining: 163ms\n",
      "887:\tlearn: 18.3676513\ttotal: 1.28s\tremaining: 161ms\n",
      "888:\tlearn: 18.3048839\ttotal: 1.28s\tremaining: 160ms\n",
      "889:\tlearn: 18.2501678\ttotal: 1.28s\tremaining: 158ms\n",
      "890:\tlearn: 18.2421410\ttotal: 1.28s\tremaining: 157ms\n",
      "891:\tlearn: 18.1820355\ttotal: 1.28s\tremaining: 155ms\n",
      "892:\tlearn: 18.1045997\ttotal: 1.28s\tremaining: 154ms\n",
      "893:\tlearn: 18.0516539\ttotal: 1.29s\tremaining: 153ms\n",
      "894:\tlearn: 17.9507407\ttotal: 1.29s\tremaining: 151ms\n",
      "895:\tlearn: 17.8656394\ttotal: 1.29s\tremaining: 150ms\n",
      "896:\tlearn: 17.8130004\ttotal: 1.29s\tremaining: 148ms\n",
      "897:\tlearn: 17.8056685\ttotal: 1.29s\tremaining: 147ms\n",
      "898:\tlearn: 17.7479301\ttotal: 1.29s\tremaining: 145ms\n",
      "899:\tlearn: 17.6628775\ttotal: 1.29s\tremaining: 144ms\n",
      "900:\tlearn: 17.6036263\ttotal: 1.29s\tremaining: 142ms\n",
      "901:\tlearn: 17.5548725\ttotal: 1.29s\tremaining: 141ms\n",
      "902:\tlearn: 17.5112982\ttotal: 1.3s\tremaining: 139ms\n",
      "903:\tlearn: 17.4337097\ttotal: 1.3s\tremaining: 138ms\n",
      "904:\tlearn: 17.3438812\ttotal: 1.3s\tremaining: 137ms\n",
      "905:\tlearn: 17.2978952\ttotal: 1.3s\tremaining: 135ms\n",
      "906:\tlearn: 17.2705120\ttotal: 1.3s\tremaining: 134ms\n",
      "907:\tlearn: 17.2197843\ttotal: 1.3s\tremaining: 132ms\n",
      "908:\tlearn: 17.1672918\ttotal: 1.31s\tremaining: 131ms\n",
      "909:\tlearn: 17.0962813\ttotal: 1.31s\tremaining: 129ms\n",
      "910:\tlearn: 17.0367884\ttotal: 1.31s\tremaining: 128ms\n",
      "911:\tlearn: 16.9995434\ttotal: 1.31s\tremaining: 127ms\n",
      "912:\tlearn: 16.9503108\ttotal: 1.31s\tremaining: 125ms\n",
      "913:\tlearn: 16.8634821\ttotal: 1.31s\tremaining: 124ms\n",
      "914:\tlearn: 16.8562342\ttotal: 1.31s\tremaining: 122ms\n",
      "915:\tlearn: 16.8266675\ttotal: 1.32s\tremaining: 121ms\n",
      "916:\tlearn: 16.8202756\ttotal: 1.32s\tremaining: 119ms\n",
      "917:\tlearn: 16.8140117\ttotal: 1.32s\tremaining: 118ms\n",
      "918:\tlearn: 16.7657793\ttotal: 1.32s\tremaining: 116ms\n",
      "919:\tlearn: 16.7455489\ttotal: 1.32s\tremaining: 115ms\n",
      "920:\tlearn: 16.7350234\ttotal: 1.32s\tremaining: 113ms\n",
      "921:\tlearn: 16.6764784\ttotal: 1.32s\tremaining: 112ms\n",
      "922:\tlearn: 16.6413683\ttotal: 1.33s\tremaining: 111ms\n",
      "923:\tlearn: 16.6313216\ttotal: 1.33s\tremaining: 109ms\n",
      "924:\tlearn: 16.5737890\ttotal: 1.33s\tremaining: 108ms\n",
      "925:\tlearn: 16.5612564\ttotal: 1.33s\tremaining: 106ms\n",
      "926:\tlearn: 16.5194103\ttotal: 1.33s\tremaining: 105ms\n",
      "927:\tlearn: 16.4774875\ttotal: 1.33s\tremaining: 103ms\n",
      "928:\tlearn: 16.4716862\ttotal: 1.33s\tremaining: 102ms\n",
      "929:\tlearn: 16.4373752\ttotal: 1.33s\tremaining: 100ms\n",
      "930:\tlearn: 16.4285377\ttotal: 1.34s\tremaining: 99.1ms\n",
      "931:\tlearn: 16.3673869\ttotal: 1.34s\tremaining: 97.6ms\n",
      "932:\tlearn: 16.3185470\ttotal: 1.34s\tremaining: 96.2ms\n",
      "933:\tlearn: 16.2631467\ttotal: 1.34s\tremaining: 94.7ms\n",
      "934:\tlearn: 16.1934975\ttotal: 1.34s\tremaining: 93.3ms\n",
      "935:\tlearn: 16.1884481\ttotal: 1.34s\tremaining: 91.8ms\n",
      "936:\tlearn: 16.1500024\ttotal: 1.34s\tremaining: 90.4ms\n",
      "937:\tlearn: 16.1409804\ttotal: 1.34s\tremaining: 88.9ms\n",
      "938:\tlearn: 16.0683587\ttotal: 1.35s\tremaining: 87.5ms\n",
      "939:\tlearn: 15.9809030\ttotal: 1.35s\tremaining: 86ms\n",
      "940:\tlearn: 15.8978202\ttotal: 1.35s\tremaining: 84.6ms\n",
      "941:\tlearn: 15.8709900\ttotal: 1.35s\tremaining: 83.2ms\n",
      "942:\tlearn: 15.8344018\ttotal: 1.35s\tremaining: 81.7ms\n",
      "943:\tlearn: 15.8295482\ttotal: 1.35s\tremaining: 80.3ms\n",
      "944:\tlearn: 15.7744973\ttotal: 1.36s\tremaining: 79ms\n",
      "945:\tlearn: 15.7305450\ttotal: 1.36s\tremaining: 77.5ms\n",
      "946:\tlearn: 15.6857434\ttotal: 1.36s\tremaining: 76.1ms\n",
      "947:\tlearn: 15.6591016\ttotal: 1.36s\tremaining: 74.6ms\n",
      "948:\tlearn: 15.6314256\ttotal: 1.36s\tremaining: 73.2ms\n",
      "949:\tlearn: 15.5788777\ttotal: 1.36s\tremaining: 71.8ms\n",
      "950:\tlearn: 15.5325554\ttotal: 1.36s\tremaining: 70.4ms\n",
      "951:\tlearn: 15.4890930\ttotal: 1.37s\tremaining: 68.9ms\n",
      "952:\tlearn: 15.4263779\ttotal: 1.37s\tremaining: 67.5ms\n",
      "953:\tlearn: 15.3892307\ttotal: 1.37s\tremaining: 66.1ms\n",
      "954:\tlearn: 15.3531641\ttotal: 1.37s\tremaining: 64.7ms\n",
      "955:\tlearn: 15.3172544\ttotal: 1.37s\tremaining: 63.2ms\n",
      "956:\tlearn: 15.2722481\ttotal: 1.38s\tremaining: 61.8ms\n",
      "957:\tlearn: 15.2509946\ttotal: 1.38s\tremaining: 60.5ms\n",
      "958:\tlearn: 15.2106080\ttotal: 1.38s\tremaining: 59ms\n",
      "959:\tlearn: 15.1550705\ttotal: 1.38s\tremaining: 57.6ms\n",
      "960:\tlearn: 15.1198927\ttotal: 1.38s\tremaining: 56.1ms\n",
      "961:\tlearn: 15.0521121\ttotal: 1.38s\tremaining: 54.7ms\n",
      "962:\tlearn: 15.0138282\ttotal: 1.39s\tremaining: 53.3ms\n",
      "963:\tlearn: 14.9511473\ttotal: 1.39s\tremaining: 51.9ms\n",
      "964:\tlearn: 14.9013556\ttotal: 1.39s\tremaining: 50.4ms\n",
      "965:\tlearn: 14.8491591\ttotal: 1.39s\tremaining: 49ms\n",
      "966:\tlearn: 14.7846364\ttotal: 1.39s\tremaining: 47.5ms\n",
      "967:\tlearn: 14.7378076\ttotal: 1.39s\tremaining: 46.1ms\n",
      "968:\tlearn: 14.6963646\ttotal: 1.39s\tremaining: 44.6ms\n",
      "969:\tlearn: 14.6368320\ttotal: 1.4s\tremaining: 43.2ms\n",
      "970:\tlearn: 14.5641432\ttotal: 1.4s\tremaining: 41.7ms\n",
      "971:\tlearn: 14.5009366\ttotal: 1.4s\tremaining: 40.3ms\n",
      "972:\tlearn: 14.4934257\ttotal: 1.4s\tremaining: 38.8ms\n",
      "973:\tlearn: 14.4521224\ttotal: 1.4s\tremaining: 37.4ms\n",
      "974:\tlearn: 14.4111253\ttotal: 1.4s\tremaining: 36ms\n",
      "975:\tlearn: 14.3698632\ttotal: 1.4s\tremaining: 34.5ms\n",
      "976:\tlearn: 14.3591191\ttotal: 1.4s\tremaining: 33.1ms\n",
      "977:\tlearn: 14.3269189\ttotal: 1.41s\tremaining: 31.6ms\n",
      "978:\tlearn: 14.2789397\ttotal: 1.41s\tremaining: 30.2ms\n",
      "979:\tlearn: 14.2216384\ttotal: 1.41s\tremaining: 28.8ms\n",
      "980:\tlearn: 14.1751644\ttotal: 1.41s\tremaining: 27.3ms\n",
      "981:\tlearn: 14.1256092\ttotal: 1.41s\tremaining: 25.9ms\n",
      "982:\tlearn: 14.0731502\ttotal: 1.41s\tremaining: 24.5ms\n",
      "983:\tlearn: 14.0117995\ttotal: 1.42s\tremaining: 23ms\n",
      "984:\tlearn: 13.9841830\ttotal: 1.42s\tremaining: 21.6ms\n",
      "985:\tlearn: 13.9230955\ttotal: 1.42s\tremaining: 20.1ms\n",
      "986:\tlearn: 13.8746811\ttotal: 1.42s\tremaining: 18.7ms\n",
      "987:\tlearn: 13.8092980\ttotal: 1.42s\tremaining: 17.3ms\n",
      "988:\tlearn: 13.7921958\ttotal: 1.42s\tremaining: 15.8ms\n",
      "989:\tlearn: 13.7424480\ttotal: 1.42s\tremaining: 14.4ms\n",
      "990:\tlearn: 13.6967360\ttotal: 1.42s\tremaining: 12.9ms\n",
      "991:\tlearn: 13.6709582\ttotal: 1.42s\tremaining: 11.5ms\n",
      "992:\tlearn: 13.6094706\ttotal: 1.43s\tremaining: 10.1ms\n",
      "993:\tlearn: 13.5641205\ttotal: 1.43s\tremaining: 8.62ms\n",
      "994:\tlearn: 13.5192775\ttotal: 1.43s\tremaining: 7.18ms\n",
      "995:\tlearn: 13.4902451\ttotal: 1.43s\tremaining: 5.75ms\n",
      "996:\tlearn: 13.4806052\ttotal: 1.43s\tremaining: 4.31ms\n",
      "997:\tlearn: 13.4282445\ttotal: 1.43s\tremaining: 2.87ms\n",
      "998:\tlearn: 13.4020177\ttotal: 1.43s\tremaining: 1.44ms\n",
      "999:\tlearn: 13.3781902\ttotal: 1.44s\tremaining: 0us\n"
     ]
    },
    {
     "data": {
      "text/plain": [
       "350.2683163098795"
      ]
     },
     "execution_count": 41,
     "metadata": {},
     "output_type": "execute_result"
    }
   ],
   "source": [
    "cat_model = CatBoostRegressor().fit(X_train,y_train)\n"
   ]
  },
  {
   "cell_type": "code",
   "execution_count": 42,
   "metadata": {},
   "outputs": [
    {
     "data": {
      "text/plain": [
       "350.2683163098795"
      ]
     },
     "execution_count": 42,
     "metadata": {},
     "output_type": "execute_result"
    }
   ],
   "source": [
    "np.sqrt(mean_squared_error(y_test,cat_model.predict(X_test)))"
   ]
  },
  {
   "cell_type": "code",
   "execution_count": 45,
   "metadata": {},
   "outputs": [],
   "source": [
    "cat_model = CatBoostRegressor()"
   ]
  },
  {
   "cell_type": "code",
   "execution_count": 46,
   "metadata": {},
   "outputs": [],
   "source": [
    "cat_params = {\n",
    "    \"iterations\":[200,500,1000],\n",
    "    \"learning_rate\":[0.01,0.1],\n",
    "    \"depth\":[3,6,8]\n",
    "}"
   ]
  },
  {
   "cell_type": "code",
   "execution_count": 47,
   "metadata": {
    "collapsed": true,
    "jupyter": {
     "outputs_hidden": true
    }
   },
   "outputs": [
    {
     "name": "stdout",
     "output_type": "stream",
     "text": [
      "Fitting 5 folds for each of 18 candidates, totalling 90 fits\n"
     ]
    },
    {
     "name": "stderr",
     "output_type": "stream",
     "text": [
      "[Parallel(n_jobs=-1)]: Using backend LokyBackend with 8 concurrent workers.\n",
      "[Parallel(n_jobs=-1)]: Done  25 tasks      | elapsed:   17.5s\n",
      "[Parallel(n_jobs=-1)]: Done  90 out of  90 | elapsed:  2.0min finished\n",
      "C:\\Users\\ardaa_iyfsapc\\Anaconda3\\lib\\site-packages\\sklearn\\model_selection\\_search.py:814: DeprecationWarning: The default of the `iid` parameter will change from True to False in version 0.22 and will be removed in 0.24. This will change numeric results when test-set sizes are unequal.\n",
      "  DeprecationWarning)\n"
     ]
    },
    {
     "name": "stdout",
     "output_type": "stream",
     "text": [
      "0:\tlearn: 425.7900818\ttotal: 838us\tremaining: 167ms\n",
      "1:\tlearn: 404.8723520\ttotal: 1.4ms\tremaining: 139ms\n",
      "2:\tlearn: 387.4057666\ttotal: 2.26ms\tremaining: 148ms\n",
      "3:\tlearn: 372.2801584\ttotal: 2.75ms\tremaining: 135ms\n",
      "4:\tlearn: 358.9204229\ttotal: 3.33ms\tremaining: 130ms\n",
      "5:\tlearn: 347.0083933\ttotal: 3.94ms\tremaining: 127ms\n",
      "6:\tlearn: 336.0130818\ttotal: 4.57ms\tremaining: 126ms\n",
      "7:\tlearn: 324.3923300\ttotal: 5.03ms\tremaining: 121ms\n",
      "8:\tlearn: 314.8690957\ttotal: 5.45ms\tremaining: 116ms\n",
      "9:\tlearn: 308.5075563\ttotal: 5.87ms\tremaining: 112ms\n",
      "10:\tlearn: 298.8587285\ttotal: 6.27ms\tremaining: 108ms\n",
      "11:\tlearn: 294.7655438\ttotal: 6.73ms\tremaining: 105ms\n",
      "12:\tlearn: 288.0697862\ttotal: 7.17ms\tremaining: 103ms\n",
      "13:\tlearn: 282.6697154\ttotal: 7.71ms\tremaining: 102ms\n",
      "14:\tlearn: 277.6121667\ttotal: 8.65ms\tremaining: 107ms\n",
      "15:\tlearn: 273.4383979\ttotal: 9.14ms\tremaining: 105ms\n",
      "16:\tlearn: 269.1556201\ttotal: 9.56ms\tremaining: 103ms\n",
      "17:\tlearn: 264.8098704\ttotal: 10.1ms\tremaining: 102ms\n",
      "18:\tlearn: 261.6700768\ttotal: 10.5ms\tremaining: 100ms\n",
      "19:\tlearn: 257.3961290\ttotal: 10.9ms\tremaining: 98.4ms\n",
      "20:\tlearn: 252.2691509\ttotal: 11.3ms\tremaining: 96.6ms\n",
      "21:\tlearn: 249.0686482\ttotal: 12ms\tremaining: 96.8ms\n",
      "22:\tlearn: 244.1881041\ttotal: 12.6ms\tremaining: 96.6ms\n",
      "23:\tlearn: 242.1696687\ttotal: 13.2ms\tremaining: 97.1ms\n",
      "24:\tlearn: 239.2131476\ttotal: 13.7ms\tremaining: 95.9ms\n",
      "25:\tlearn: 236.6883901\ttotal: 14.2ms\tremaining: 94.7ms\n",
      "26:\tlearn: 234.5295613\ttotal: 14.6ms\tremaining: 93.5ms\n",
      "27:\tlearn: 231.7788834\ttotal: 15ms\tremaining: 92.3ms\n",
      "28:\tlearn: 228.8020330\ttotal: 15.5ms\tremaining: 91.2ms\n",
      "29:\tlearn: 226.8420565\ttotal: 16.1ms\tremaining: 91ms\n",
      "30:\tlearn: 224.0686558\ttotal: 16.7ms\tremaining: 91ms\n",
      "31:\tlearn: 222.6644699\ttotal: 17.7ms\tremaining: 93.2ms\n",
      "32:\tlearn: 221.6889573\ttotal: 18.3ms\tremaining: 92.7ms\n",
      "33:\tlearn: 220.5171653\ttotal: 18.9ms\tremaining: 92.5ms\n",
      "34:\tlearn: 217.7686033\ttotal: 19.5ms\tremaining: 92.1ms\n",
      "35:\tlearn: 214.8462789\ttotal: 20ms\tremaining: 91.3ms\n",
      "36:\tlearn: 214.4799251\ttotal: 20.5ms\tremaining: 90.3ms\n",
      "37:\tlearn: 212.3480429\ttotal: 20.9ms\tremaining: 89.2ms\n",
      "38:\tlearn: 210.0040644\ttotal: 21.4ms\tremaining: 88.5ms\n",
      "39:\tlearn: 208.3086913\ttotal: 22.1ms\tremaining: 88.3ms\n",
      "40:\tlearn: 207.5469119\ttotal: 22.9ms\tremaining: 89ms\n",
      "41:\tlearn: 205.9351113\ttotal: 23.4ms\tremaining: 88ms\n",
      "42:\tlearn: 205.3580824\ttotal: 23.8ms\tremaining: 87ms\n",
      "43:\tlearn: 204.6204266\ttotal: 24.2ms\tremaining: 85.9ms\n",
      "44:\tlearn: 202.5023220\ttotal: 24.7ms\tremaining: 85ms\n",
      "45:\tlearn: 201.4347853\ttotal: 25.1ms\tremaining: 84.1ms\n",
      "46:\tlearn: 200.8752553\ttotal: 25.6ms\tremaining: 83.2ms\n",
      "47:\tlearn: 200.4047344\ttotal: 26.2ms\tremaining: 82.9ms\n",
      "48:\tlearn: 197.5433004\ttotal: 26.6ms\tremaining: 81.9ms\n",
      "49:\tlearn: 194.6943292\ttotal: 27ms\tremaining: 81.1ms\n",
      "50:\tlearn: 194.3011982\ttotal: 27.4ms\tremaining: 80.2ms\n",
      "51:\tlearn: 193.4011843\ttotal: 27.9ms\tremaining: 79.3ms\n",
      "52:\tlearn: 193.0109753\ttotal: 28.4ms\tremaining: 78.8ms\n",
      "53:\tlearn: 192.6071142\ttotal: 28.9ms\tremaining: 78.2ms\n",
      "54:\tlearn: 191.9666153\ttotal: 29.3ms\tremaining: 77.4ms\n",
      "55:\tlearn: 191.5789727\ttotal: 30.1ms\tremaining: 77.3ms\n",
      "56:\tlearn: 190.7186284\ttotal: 30.5ms\tremaining: 76.5ms\n",
      "57:\tlearn: 190.4543087\ttotal: 30.9ms\tremaining: 75.7ms\n",
      "58:\tlearn: 190.1336317\ttotal: 31.4ms\tremaining: 75ms\n",
      "59:\tlearn: 188.2286484\ttotal: 31.8ms\tremaining: 74.3ms\n",
      "60:\tlearn: 187.7652417\ttotal: 32.5ms\tremaining: 74.1ms\n",
      "61:\tlearn: 187.4227950\ttotal: 33.1ms\tremaining: 73.6ms\n",
      "62:\tlearn: 186.9289182\ttotal: 33.6ms\tremaining: 73.2ms\n",
      "63:\tlearn: 185.2993487\ttotal: 34.2ms\tremaining: 72.7ms\n",
      "64:\tlearn: 185.0349598\ttotal: 34.7ms\tremaining: 72.2ms\n",
      "65:\tlearn: 183.9773430\ttotal: 35.2ms\tremaining: 71.5ms\n",
      "66:\tlearn: 183.4463166\ttotal: 35.6ms\tremaining: 70.7ms\n",
      "67:\tlearn: 181.6627740\ttotal: 36.1ms\tremaining: 70ms\n",
      "68:\tlearn: 179.8785055\ttotal: 36.5ms\tremaining: 69.3ms\n",
      "69:\tlearn: 179.6737527\ttotal: 37.1ms\tremaining: 68.9ms\n",
      "70:\tlearn: 177.0830981\ttotal: 38.1ms\tremaining: 69.2ms\n",
      "71:\tlearn: 176.5917790\ttotal: 38.5ms\tremaining: 68.5ms\n",
      "72:\tlearn: 176.1240502\ttotal: 39.2ms\tremaining: 68.2ms\n",
      "73:\tlearn: 174.4828953\ttotal: 39.7ms\tremaining: 67.6ms\n",
      "74:\tlearn: 173.4220482\ttotal: 40.4ms\tremaining: 67.3ms\n",
      "75:\tlearn: 171.9903405\ttotal: 40.9ms\tremaining: 66.7ms\n",
      "76:\tlearn: 171.5803116\ttotal: 41.3ms\tremaining: 65.9ms\n",
      "77:\tlearn: 170.1411594\ttotal: 42.3ms\tremaining: 66.1ms\n",
      "78:\tlearn: 167.9868133\ttotal: 42.8ms\tremaining: 65.5ms\n",
      "79:\tlearn: 166.5304475\ttotal: 43.2ms\tremaining: 64.8ms\n",
      "80:\tlearn: 166.1741622\ttotal: 43.7ms\tremaining: 64.1ms\n",
      "81:\tlearn: 165.8411762\ttotal: 44.1ms\tremaining: 63.5ms\n",
      "82:\tlearn: 165.1041583\ttotal: 44.5ms\tremaining: 62.8ms\n",
      "83:\tlearn: 163.5641543\ttotal: 45ms\tremaining: 62.1ms\n",
      "84:\tlearn: 163.2003311\ttotal: 45.4ms\tremaining: 61.5ms\n",
      "85:\tlearn: 161.1781702\ttotal: 45.9ms\tremaining: 60.8ms\n",
      "86:\tlearn: 160.8727658\ttotal: 46.4ms\tremaining: 60.3ms\n",
      "87:\tlearn: 159.7954077\ttotal: 47.1ms\tremaining: 59.9ms\n",
      "88:\tlearn: 158.8759132\ttotal: 47.5ms\tremaining: 59.3ms\n",
      "89:\tlearn: 158.4831323\ttotal: 48ms\tremaining: 58.7ms\n",
      "90:\tlearn: 157.4808127\ttotal: 48.6ms\tremaining: 58.2ms\n",
      "91:\tlearn: 157.1703230\ttotal: 49.5ms\tremaining: 58.1ms\n",
      "92:\tlearn: 155.3184755\ttotal: 50ms\tremaining: 57.5ms\n",
      "93:\tlearn: 154.3988879\ttotal: 50.4ms\tremaining: 56.9ms\n",
      "94:\tlearn: 153.4591935\ttotal: 50.9ms\tremaining: 56.2ms\n",
      "95:\tlearn: 153.1206893\ttotal: 51.3ms\tremaining: 55.5ms\n",
      "96:\tlearn: 152.7897351\ttotal: 51.9ms\tremaining: 55.1ms\n",
      "97:\tlearn: 150.9293164\ttotal: 52.5ms\tremaining: 54.7ms\n",
      "98:\tlearn: 149.7127171\ttotal: 53.1ms\tremaining: 54.2ms\n",
      "99:\tlearn: 149.5089324\ttotal: 53.6ms\tremaining: 53.6ms\n",
      "100:\tlearn: 149.3156312\ttotal: 54.1ms\tremaining: 53ms\n",
      "101:\tlearn: 147.7226718\ttotal: 54.6ms\tremaining: 52.5ms\n",
      "102:\tlearn: 146.7692282\ttotal: 55ms\tremaining: 51.8ms\n",
      "103:\tlearn: 145.9084983\ttotal: 55.4ms\tremaining: 51.2ms\n",
      "104:\tlearn: 144.8780979\ttotal: 56ms\tremaining: 50.6ms\n",
      "105:\tlearn: 143.8090268\ttotal: 57.2ms\tremaining: 50.7ms\n",
      "106:\tlearn: 143.1272551\ttotal: 57.6ms\tremaining: 50.1ms\n",
      "107:\tlearn: 142.4863018\ttotal: 58.1ms\tremaining: 49.5ms\n",
      "108:\tlearn: 141.4861279\ttotal: 58.5ms\tremaining: 48.8ms\n",
      "109:\tlearn: 140.8689530\ttotal: 59ms\tremaining: 48.2ms\n",
      "110:\tlearn: 140.4009570\ttotal: 59.4ms\tremaining: 47.6ms\n",
      "111:\tlearn: 140.0344439\ttotal: 59.8ms\tremaining: 47ms\n",
      "112:\tlearn: 139.4290096\ttotal: 60.3ms\tremaining: 46.4ms\n",
      "113:\tlearn: 139.2008874\ttotal: 60.8ms\tremaining: 45.9ms\n",
      "114:\tlearn: 138.6000188\ttotal: 61.7ms\tremaining: 45.6ms\n",
      "115:\tlearn: 138.3962706\ttotal: 62.3ms\tremaining: 45.1ms\n",
      "116:\tlearn: 138.1737256\ttotal: 63ms\tremaining: 44.7ms\n",
      "117:\tlearn: 137.6342361\ttotal: 63.4ms\tremaining: 44.1ms\n",
      "118:\tlearn: 136.7119826\ttotal: 64ms\tremaining: 43.6ms\n",
      "119:\tlearn: 135.3057402\ttotal: 64.5ms\tremaining: 43ms\n",
      "120:\tlearn: 134.4797815\ttotal: 64.9ms\tremaining: 42.4ms\n",
      "121:\tlearn: 133.0774331\ttotal: 65.3ms\tremaining: 41.8ms\n",
      "122:\tlearn: 131.8739238\ttotal: 65.8ms\tremaining: 41.2ms\n",
      "123:\tlearn: 131.3203837\ttotal: 66.2ms\tremaining: 40.6ms\n",
      "124:\tlearn: 130.8294604\ttotal: 66.6ms\tremaining: 40ms\n",
      "125:\tlearn: 130.6107905\ttotal: 67.2ms\tremaining: 39.5ms\n",
      "126:\tlearn: 130.1614924\ttotal: 67.7ms\tremaining: 38.9ms\n",
      "127:\tlearn: 129.3166972\ttotal: 68.1ms\tremaining: 38.3ms\n",
      "128:\tlearn: 129.1038672\ttotal: 68.6ms\tremaining: 37.8ms\n",
      "129:\tlearn: 128.9594874\ttotal: 69ms\tremaining: 37.2ms\n",
      "130:\tlearn: 128.1849638\ttotal: 69.5ms\tremaining: 36.6ms\n",
      "131:\tlearn: 128.0307033\ttotal: 70.1ms\tremaining: 36.1ms\n",
      "132:\tlearn: 127.3373882\ttotal: 70.6ms\tremaining: 35.5ms\n",
      "133:\tlearn: 126.2856989\ttotal: 71ms\tremaining: 35ms\n",
      "134:\tlearn: 126.1379832\ttotal: 71.7ms\tremaining: 34.5ms\n",
      "135:\tlearn: 126.0180019\ttotal: 72.5ms\tremaining: 34.1ms\n",
      "136:\tlearn: 125.8843963\ttotal: 73.2ms\tremaining: 33.7ms\n",
      "137:\tlearn: 125.7576333\ttotal: 73.8ms\tremaining: 33.1ms\n",
      "138:\tlearn: 125.4794581\ttotal: 74.2ms\tremaining: 32.6ms\n",
      "139:\tlearn: 124.7920270\ttotal: 74.7ms\tremaining: 32ms\n",
      "140:\tlearn: 124.6530278\ttotal: 75.1ms\tremaining: 31.4ms\n",
      "141:\tlearn: 123.4539010\ttotal: 75.6ms\tremaining: 30.9ms\n",
      "142:\tlearn: 122.8980001\ttotal: 76.7ms\tremaining: 30.6ms\n",
      "143:\tlearn: 122.0911177\ttotal: 77.3ms\tremaining: 30.1ms\n",
      "144:\tlearn: 121.1209154\ttotal: 77.9ms\tremaining: 29.6ms\n",
      "145:\tlearn: 120.1613553\ttotal: 78.4ms\tremaining: 29ms\n",
      "146:\tlearn: 119.1894727\ttotal: 78.9ms\tremaining: 28.5ms\n",
      "147:\tlearn: 118.0325732\ttotal: 79.4ms\tremaining: 27.9ms\n",
      "148:\tlearn: 117.9138240\ttotal: 79.8ms\tremaining: 27.3ms\n",
      "149:\tlearn: 117.3831462\ttotal: 80.2ms\tremaining: 26.7ms\n",
      "150:\tlearn: 116.8475244\ttotal: 80.7ms\tremaining: 26.2ms\n",
      "151:\tlearn: 116.3821954\ttotal: 81.2ms\tremaining: 25.6ms\n",
      "152:\tlearn: 115.5293176\ttotal: 81.8ms\tremaining: 25.1ms\n",
      "153:\tlearn: 115.0975175\ttotal: 82.5ms\tremaining: 24.6ms\n",
      "154:\tlearn: 114.0649594\ttotal: 83.2ms\tremaining: 24.1ms\n",
      "155:\tlearn: 113.2562326\ttotal: 83.8ms\tremaining: 23.6ms\n",
      "156:\tlearn: 112.7557871\ttotal: 84.3ms\tremaining: 23.1ms\n",
      "157:\tlearn: 112.5657565\ttotal: 84.7ms\tremaining: 22.5ms\n",
      "158:\tlearn: 112.3541525\ttotal: 85.1ms\tremaining: 21.9ms\n",
      "159:\tlearn: 111.8527982\ttotal: 85.7ms\tremaining: 21.4ms\n",
      "160:\tlearn: 111.1619644\ttotal: 86.1ms\tremaining: 20.9ms\n",
      "161:\tlearn: 110.3588257\ttotal: 86.5ms\tremaining: 20.3ms\n",
      "162:\tlearn: 109.6664293\ttotal: 87ms\tremaining: 19.7ms\n",
      "163:\tlearn: 109.5577303\ttotal: 87.9ms\tremaining: 19.3ms\n",
      "164:\tlearn: 109.0570285\ttotal: 88.4ms\tremaining: 18.8ms\n",
      "165:\tlearn: 108.7601467\ttotal: 88.8ms\tremaining: 18.2ms\n",
      "166:\tlearn: 108.0448620\ttotal: 89.2ms\tremaining: 17.6ms\n",
      "167:\tlearn: 107.5593372\ttotal: 89.6ms\tremaining: 17.1ms\n",
      "168:\tlearn: 106.3862999\ttotal: 90.1ms\tremaining: 16.5ms\n",
      "169:\tlearn: 106.2180807\ttotal: 90.9ms\tremaining: 16ms\n",
      "170:\tlearn: 106.0695603\ttotal: 91.8ms\tremaining: 15.6ms\n",
      "171:\tlearn: 105.6940213\ttotal: 92.3ms\tremaining: 15ms\n",
      "172:\tlearn: 104.7598987\ttotal: 92.7ms\tremaining: 14.5ms\n",
      "173:\tlearn: 104.6589992\ttotal: 93.2ms\tremaining: 13.9ms\n",
      "174:\tlearn: 103.7203657\ttotal: 93.6ms\tremaining: 13.4ms\n",
      "175:\tlearn: 103.2660987\ttotal: 94ms\tremaining: 12.8ms\n",
      "176:\tlearn: 103.0926213\ttotal: 94.4ms\tremaining: 12.3ms\n",
      "177:\tlearn: 102.6925209\ttotal: 95ms\tremaining: 11.7ms\n",
      "178:\tlearn: 102.1655154\ttotal: 95.9ms\tremaining: 11.2ms\n",
      "179:\tlearn: 101.8273108\ttotal: 96.4ms\tremaining: 10.7ms\n",
      "180:\tlearn: 101.7264515\ttotal: 96.8ms\tremaining: 10.2ms\n",
      "181:\tlearn: 101.1102333\ttotal: 97.2ms\tremaining: 9.62ms\n",
      "182:\tlearn: 100.7880364\ttotal: 97.8ms\tremaining: 9.09ms\n",
      "183:\tlearn: 100.6673014\ttotal: 98.2ms\tremaining: 8.54ms\n",
      "184:\tlearn: 100.0153055\ttotal: 98.7ms\tremaining: 8ms\n",
      "185:\tlearn: 99.7667281\ttotal: 99.1ms\tremaining: 7.46ms\n",
      "186:\tlearn: 99.1860593\ttotal: 99.6ms\tremaining: 6.92ms\n",
      "187:\tlearn: 99.0408133\ttotal: 99.9ms\tremaining: 6.38ms\n",
      "188:\tlearn: 98.9030718\ttotal: 101ms\tremaining: 5.86ms\n",
      "189:\tlearn: 97.4513860\ttotal: 102ms\tremaining: 5.34ms\n",
      "190:\tlearn: 97.3322959\ttotal: 102ms\tremaining: 4.81ms\n",
      "191:\tlearn: 97.1950848\ttotal: 103ms\tremaining: 4.28ms\n",
      "192:\tlearn: 96.6789532\ttotal: 103ms\tremaining: 3.74ms\n",
      "193:\tlearn: 96.5506179\ttotal: 104ms\tremaining: 3.21ms\n",
      "194:\tlearn: 95.6635039\ttotal: 104ms\tremaining: 2.67ms\n",
      "195:\tlearn: 94.8850777\ttotal: 105ms\tremaining: 2.14ms\n",
      "196:\tlearn: 94.1624589\ttotal: 105ms\tremaining: 1.6ms\n",
      "197:\tlearn: 93.8220662\ttotal: 106ms\tremaining: 1.07ms\n",
      "198:\tlearn: 93.7300351\ttotal: 106ms\tremaining: 533us\n",
      "199:\tlearn: 93.3339522\ttotal: 107ms\tremaining: 0us\n"
     ]
    }
   ],
   "source": [
    "cat_cv = GridSearchCV(cat_model,cat_params,cv=5,n_jobs=-1,verbose=2).fit(X_train,y_train)"
   ]
  },
  {
   "cell_type": "code",
   "execution_count": 48,
   "metadata": {},
   "outputs": [
    {
     "data": {
      "text/plain": [
       "{'depth': 3, 'iterations': 200, 'learning_rate': 0.1}"
      ]
     },
     "execution_count": 48,
     "metadata": {},
     "output_type": "execute_result"
    }
   ],
   "source": [
    "cat_cv.best_params_"
   ]
  }
 ],
 "metadata": {
  "kernelspec": {
   "display_name": "Python 3",
   "language": "python",
   "name": "python3"
  },
  "language_info": {
   "codemirror_mode": {
    "name": "ipython",
    "version": 3
   },
   "file_extension": ".py",
   "mimetype": "text/x-python",
   "name": "python",
   "nbconvert_exporter": "python",
   "pygments_lexer": "ipython3",
   "version": "3.7.4"
  }
 },
 "nbformat": 4,
 "nbformat_minor": 4
}
